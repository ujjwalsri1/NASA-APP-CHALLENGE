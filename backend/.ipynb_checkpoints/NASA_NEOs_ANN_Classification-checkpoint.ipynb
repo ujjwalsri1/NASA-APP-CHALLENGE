{
 "cells": [
  {
   "cell_type": "markdown",
   "metadata": {
    "id": "10f8ca13"
   },
   "source": [
    "**<h1 align=center><font size = 5>Predictive Modeling of Near-Earth Objects using Artificial Neural Networks</font></h1>**\n",
    "\n",
    "<br>\n",
    "\n",
    "<img src=\"https://www.techexplorist.com/wp-content/uploads/2021/12/NASAs-Eyes-on-Asteroids.jpg\" alt=\"Techexplorist\">\n",
    "\n",
    "<small>Picture Source: <a href=\"https://www.techexplorist.com/wp-content/uploads/2021/12/NASAs-Eyes-on-Asteroids.jpg\">Techexplorist</a>\n",
    "\n",
    "<br>\n",
    "\n",
    "<h3><b>Near-Earth Objects - NEOs</b></h3>\n",
    "\n",
    "<p>Near-Earth Objects (NEOs) are a group of celestial objects, including asteroids and comets, whose orbits bring them into close proximity to Earth. These objects can potentially pose a risk to our planet due to their potential for collision. Understanding and tracking NEOs is an important part of planetary defense and space science.\n",
    "\n",
    "NASA provides access to data about NEOs through its publicly available API (Application Programming Interface) called the \"Near-Earth Object Web Service\" (NeoWs). This API allows researchers, developers, and the public to access information about NEOs, including their orbits, physical characteristics, and close approaches to Earth.</p>\n",
    "\n",
    "<br>\n",
    "\n",
    "<h3><b>About NEOs</b></h3>\n",
    "\n",
    "<p>NEOs could potentially hit our planet and, depending on their size, produce considerable damage. While the chance of a large object hitting Earth is very small, it would produce a great deal of destruction. NEOs thus merit active detection and tracking efforts.</p>\n",
    "\n",
    "The goal of SSA’s NEO Segment (SSA-NEO) is to:\n",
    "\n",
    "<ul>\n",
    "    <li>Become aware of the current and future position of NEOs relative to our planet.</li>\n",
    "    <li>Estimate the likelihood of Earth impacts.</li>\n",
    "    <li>Assess the consequences of any possible impact.</li>\n",
    "    <li>Develop NEO deflection methods.</li>\n",
    "</ul>\n",
    "\n",
    "<p>The NEO Segment observes NEOs, predicts their orbits, produces impact warnings when necessary and is involved in potential mitigation measures.</p>\n",
    "\n",
    "<br>\n",
    "\n",
    "<h3><b>Context</b></h3>\n",
    "\n",
    "<p>There is an infinite number of objects in the outer space. Some of them are\n",
    "closer than we think. Even though we might think that a distance of 70,000 Km\n",
    "can not potentially harm us, but at an astronomical scale, this is a very small\n",
    "distance and can disrupt many natural phenomena. These objects/asteroids can\n",
    "thus prove to be harmful. Hence, it is wise to know what is surrounding us and\n",
    "what can harm us amongst those. Thus, this dataset compiles the list of <b>NASA</b>\n",
    "certified asteroids that are classified as the nearest earth object.<p>\n",
    "\n",
    "<br>\n",
    "\n",
    "<b>License</b>\n",
    "    \n",
    "CC0: Public Domain\n",
    "\n",
    "<br>\n",
    "\n",
    "<h3><b>Sources</b></h3>\n",
    "<p>Sources related to Near-Earth Objects (NEOs):</p>\n",
    "<ul>\n",
    "  <li><a href=\"https://api.nasa.gov/\">NASA Open API</a></li>\n",
    "  <li><a href=\"https://cneos.jpl.nasa.gov/ca/\">NEO Earth Close Approaches</a></li>\n",
    "  <li><a href=\"https://www.jpl.nasa.gov/news/twenty-years-of-tracking-near-earth-objects\">NASA/JPL-Caltech</a></li>\n",
    "  <li><a href=\"https://www.esa.int/Safety_Security/Near-Earth_Objects_-_NEO_Segment#:~:text=Near%2DEarth%20objects%20(NEOs),than%2020%20000%20are%20NEOs.\">ESA Near-Earth Objects - NEO Segment</a></li>\n",
    "</ul>"
   ]
  },
  {
   "cell_type": "markdown",
   "metadata": {
    "id": "75ea2f34"
   },
   "source": [
    "\n",
    "\n",
    "# **Objective for this Notebook**\n",
    "\n",
    "Within the scope of this project, a classification model was builded whether NEOs are dangerous or not, through data obtained from NASA.\n",
    "\n",
    "<div class=\"alert alert-block alert-info\" style=\"margin-top: 20px\">\n",
    "<li><a href=\"https://#library\">Importing Libraries</a></li>\n",
    "<li><a href=\"https://#data_preprocessing\">Data Preprocessing</a></li>\n",
    "<li><a href=\"https://#ann\">Building Artificial Neural Network Model for Classification</a></li>\n",
    "\n",
    "<br>\n",
    "<p></p>\n",
    "Estimated Time Needed: <strong>10 min</strong>\n",
    "</div>"
   ]
  },
  {
   "cell_type": "markdown",
   "metadata": {
    "id": "dd8e47b1"
   },
   "source": [
    "<a id=\"library\"></a>\n",
    "\n",
    "<h2 align=center><b>Importing Libraries</b></h2>"
   ]
  },
  {
   "cell_type": "code",
   "execution_count": 9,
   "metadata": {
    "id": "784bdf44"
   },
   "outputs": [
    {
     "ename": "ModuleNotFoundError",
     "evalue": "No module named 'tensorflow'",
     "output_type": "error",
     "traceback": [
      "\u001b[1;31m---------------------------------------------------------------------------\u001b[0m",
      "\u001b[1;31mModuleNotFoundError\u001b[0m                       Traceback (most recent call last)",
      "\u001b[1;32m<ipython-input-9-c4f589943c75>\u001b[0m in \u001b[0;36m<module>\u001b[1;34m\u001b[0m\n\u001b[0;32m      3\u001b[0m \u001b[1;32mimport\u001b[0m \u001b[0mmatplotlib\u001b[0m\u001b[1;33m.\u001b[0m\u001b[0mpatheffects\u001b[0m \u001b[1;32mas\u001b[0m \u001b[0mpath_effects\u001b[0m\u001b[1;33m\u001b[0m\u001b[1;33m\u001b[0m\u001b[0m\n\u001b[0;32m      4\u001b[0m \u001b[1;32mimport\u001b[0m \u001b[0mpandas\u001b[0m \u001b[1;32mas\u001b[0m \u001b[0mpd\u001b[0m\u001b[1;33m\u001b[0m\u001b[1;33m\u001b[0m\u001b[0m\n\u001b[1;32m----> 5\u001b[1;33m \u001b[1;32mimport\u001b[0m \u001b[0mkeras\u001b[0m\u001b[1;33m\u001b[0m\u001b[1;33m\u001b[0m\u001b[0m\n\u001b[0m\u001b[0;32m      6\u001b[0m \u001b[1;32mfrom\u001b[0m \u001b[0mkeras\u001b[0m\u001b[1;33m.\u001b[0m\u001b[0mmodels\u001b[0m \u001b[1;32mimport\u001b[0m \u001b[0mSequential\u001b[0m\u001b[1;33m\u001b[0m\u001b[1;33m\u001b[0m\u001b[0m\n\u001b[0;32m      7\u001b[0m \u001b[1;32mfrom\u001b[0m \u001b[0mkeras\u001b[0m\u001b[1;33m.\u001b[0m\u001b[0mlayers\u001b[0m \u001b[1;32mimport\u001b[0m \u001b[0mDense\u001b[0m\u001b[1;33m,\u001b[0m \u001b[0mDropout\u001b[0m\u001b[1;33m\u001b[0m\u001b[1;33m\u001b[0m\u001b[0m\n",
      "\u001b[1;32mD:\\Anacondar\\anaconda3\\lib\\site-packages\\keras\\__init__.py\u001b[0m in \u001b[0;36m<module>\u001b[1;34m\u001b[0m\n\u001b[0;32m      1\u001b[0m \u001b[1;34m\"\"\"AUTOGENERATED. DO NOT EDIT.\"\"\"\u001b[0m\u001b[1;33m\u001b[0m\u001b[1;33m\u001b[0m\u001b[0m\n\u001b[0;32m      2\u001b[0m \u001b[1;33m\u001b[0m\u001b[0m\n\u001b[1;32m----> 3\u001b[1;33m \u001b[1;32mfrom\u001b[0m \u001b[0mkeras\u001b[0m \u001b[1;32mimport\u001b[0m \u001b[0m__internal__\u001b[0m\u001b[1;33m\u001b[0m\u001b[1;33m\u001b[0m\u001b[0m\n\u001b[0m\u001b[0;32m      4\u001b[0m \u001b[1;32mfrom\u001b[0m \u001b[0mkeras\u001b[0m \u001b[1;32mimport\u001b[0m \u001b[0mactivations\u001b[0m\u001b[1;33m\u001b[0m\u001b[1;33m\u001b[0m\u001b[0m\n\u001b[0;32m      5\u001b[0m \u001b[1;32mfrom\u001b[0m \u001b[0mkeras\u001b[0m \u001b[1;32mimport\u001b[0m \u001b[0mapplications\u001b[0m\u001b[1;33m\u001b[0m\u001b[1;33m\u001b[0m\u001b[0m\n",
      "\u001b[1;32mD:\\Anacondar\\anaconda3\\lib\\site-packages\\keras\\__internal__\\__init__.py\u001b[0m in \u001b[0;36m<module>\u001b[1;34m\u001b[0m\n\u001b[0;32m      1\u001b[0m \u001b[1;34m\"\"\"AUTOGENERATED. DO NOT EDIT.\"\"\"\u001b[0m\u001b[1;33m\u001b[0m\u001b[1;33m\u001b[0m\u001b[0m\n\u001b[0;32m      2\u001b[0m \u001b[1;33m\u001b[0m\u001b[0m\n\u001b[1;32m----> 3\u001b[1;33m \u001b[1;32mfrom\u001b[0m \u001b[0mkeras\u001b[0m\u001b[1;33m.\u001b[0m\u001b[0m__internal__\u001b[0m \u001b[1;32mimport\u001b[0m \u001b[0mbackend\u001b[0m\u001b[1;33m\u001b[0m\u001b[1;33m\u001b[0m\u001b[0m\n\u001b[0m\u001b[0;32m      4\u001b[0m \u001b[1;32mfrom\u001b[0m \u001b[0mkeras\u001b[0m\u001b[1;33m.\u001b[0m\u001b[0m__internal__\u001b[0m \u001b[1;32mimport\u001b[0m \u001b[0mlayers\u001b[0m\u001b[1;33m\u001b[0m\u001b[1;33m\u001b[0m\u001b[0m\n\u001b[0;32m      5\u001b[0m \u001b[1;32mfrom\u001b[0m \u001b[0mkeras\u001b[0m\u001b[1;33m.\u001b[0m\u001b[0m__internal__\u001b[0m \u001b[1;32mimport\u001b[0m \u001b[0mlosses\u001b[0m\u001b[1;33m\u001b[0m\u001b[1;33m\u001b[0m\u001b[0m\n",
      "\u001b[1;32mD:\\Anacondar\\anaconda3\\lib\\site-packages\\keras\\__internal__\\backend\\__init__.py\u001b[0m in \u001b[0;36m<module>\u001b[1;34m\u001b[0m\n\u001b[0;32m      1\u001b[0m \u001b[1;34m\"\"\"AUTOGENERATED. DO NOT EDIT.\"\"\"\u001b[0m\u001b[1;33m\u001b[0m\u001b[1;33m\u001b[0m\u001b[0m\n\u001b[0;32m      2\u001b[0m \u001b[1;33m\u001b[0m\u001b[0m\n\u001b[1;32m----> 3\u001b[1;33m \u001b[1;32mfrom\u001b[0m \u001b[0mkeras\u001b[0m\u001b[1;33m.\u001b[0m\u001b[0msrc\u001b[0m\u001b[1;33m.\u001b[0m\u001b[0mbackend\u001b[0m \u001b[1;32mimport\u001b[0m \u001b[0m_initialize_variables\u001b[0m \u001b[1;32mas\u001b[0m \u001b[0minitialize_variables\u001b[0m\u001b[1;33m\u001b[0m\u001b[1;33m\u001b[0m\u001b[0m\n\u001b[0m\u001b[0;32m      4\u001b[0m \u001b[1;32mfrom\u001b[0m \u001b[0mkeras\u001b[0m\u001b[1;33m.\u001b[0m\u001b[0msrc\u001b[0m\u001b[1;33m.\u001b[0m\u001b[0mbackend\u001b[0m \u001b[1;32mimport\u001b[0m \u001b[0mtrack_variable\u001b[0m\u001b[1;33m\u001b[0m\u001b[1;33m\u001b[0m\u001b[0m\n",
      "\u001b[1;32mD:\\Anacondar\\anaconda3\\lib\\site-packages\\keras\\src\\__init__.py\u001b[0m in \u001b[0;36m<module>\u001b[1;34m\u001b[0m\n\u001b[0;32m     19\u001b[0m \"\"\"\n\u001b[0;32m     20\u001b[0m \u001b[1;32mfrom\u001b[0m \u001b[0mkeras\u001b[0m\u001b[1;33m.\u001b[0m\u001b[0msrc\u001b[0m \u001b[1;32mimport\u001b[0m \u001b[0mdistribute\u001b[0m\u001b[1;33m\u001b[0m\u001b[1;33m\u001b[0m\u001b[0m\n\u001b[1;32m---> 21\u001b[1;33m \u001b[1;32mfrom\u001b[0m \u001b[0mkeras\u001b[0m\u001b[1;33m.\u001b[0m\u001b[0msrc\u001b[0m \u001b[1;32mimport\u001b[0m \u001b[0mmodels\u001b[0m\u001b[1;33m\u001b[0m\u001b[1;33m\u001b[0m\u001b[0m\n\u001b[0m\u001b[0;32m     22\u001b[0m \u001b[1;32mfrom\u001b[0m \u001b[0mkeras\u001b[0m\u001b[1;33m.\u001b[0m\u001b[0msrc\u001b[0m\u001b[1;33m.\u001b[0m\u001b[0mengine\u001b[0m\u001b[1;33m.\u001b[0m\u001b[0minput_layer\u001b[0m \u001b[1;32mimport\u001b[0m \u001b[0mInput\u001b[0m\u001b[1;33m\u001b[0m\u001b[1;33m\u001b[0m\u001b[0m\n\u001b[0;32m     23\u001b[0m \u001b[1;32mfrom\u001b[0m \u001b[0mkeras\u001b[0m\u001b[1;33m.\u001b[0m\u001b[0msrc\u001b[0m\u001b[1;33m.\u001b[0m\u001b[0mengine\u001b[0m\u001b[1;33m.\u001b[0m\u001b[0msequential\u001b[0m \u001b[1;32mimport\u001b[0m \u001b[0mSequential\u001b[0m\u001b[1;33m\u001b[0m\u001b[1;33m\u001b[0m\u001b[0m\n",
      "\u001b[1;32mD:\\Anacondar\\anaconda3\\lib\\site-packages\\keras\\src\\models\\__init__.py\u001b[0m in \u001b[0;36m<module>\u001b[1;34m\u001b[0m\n\u001b[0;32m     16\u001b[0m \u001b[1;33m\u001b[0m\u001b[0m\n\u001b[0;32m     17\u001b[0m \u001b[1;33m\u001b[0m\u001b[0m\n\u001b[1;32m---> 18\u001b[1;33m \u001b[1;32mfrom\u001b[0m \u001b[0mkeras\u001b[0m\u001b[1;33m.\u001b[0m\u001b[0msrc\u001b[0m\u001b[1;33m.\u001b[0m\u001b[0mengine\u001b[0m\u001b[1;33m.\u001b[0m\u001b[0mfunctional\u001b[0m \u001b[1;32mimport\u001b[0m \u001b[0mFunctional\u001b[0m\u001b[1;33m\u001b[0m\u001b[1;33m\u001b[0m\u001b[0m\n\u001b[0m\u001b[0;32m     19\u001b[0m \u001b[1;32mfrom\u001b[0m \u001b[0mkeras\u001b[0m\u001b[1;33m.\u001b[0m\u001b[0msrc\u001b[0m\u001b[1;33m.\u001b[0m\u001b[0mengine\u001b[0m\u001b[1;33m.\u001b[0m\u001b[0msequential\u001b[0m \u001b[1;32mimport\u001b[0m \u001b[0mSequential\u001b[0m\u001b[1;33m\u001b[0m\u001b[1;33m\u001b[0m\u001b[0m\n\u001b[0;32m     20\u001b[0m \u001b[1;32mfrom\u001b[0m \u001b[0mkeras\u001b[0m\u001b[1;33m.\u001b[0m\u001b[0msrc\u001b[0m\u001b[1;33m.\u001b[0m\u001b[0mengine\u001b[0m\u001b[1;33m.\u001b[0m\u001b[0mtraining\u001b[0m \u001b[1;32mimport\u001b[0m \u001b[0mModel\u001b[0m\u001b[1;33m\u001b[0m\u001b[1;33m\u001b[0m\u001b[0m\n",
      "\u001b[1;32mD:\\Anacondar\\anaconda3\\lib\\site-packages\\keras\\src\\engine\\functional.py\u001b[0m in \u001b[0;36m<module>\u001b[1;34m\u001b[0m\n\u001b[0;32m     21\u001b[0m \u001b[1;32mimport\u001b[0m \u001b[0mwarnings\u001b[0m\u001b[1;33m\u001b[0m\u001b[1;33m\u001b[0m\u001b[0m\n\u001b[0;32m     22\u001b[0m \u001b[1;33m\u001b[0m\u001b[0m\n\u001b[1;32m---> 23\u001b[1;33m \u001b[1;32mimport\u001b[0m \u001b[0mtensorflow\u001b[0m\u001b[1;33m.\u001b[0m\u001b[0mcompat\u001b[0m\u001b[1;33m.\u001b[0m\u001b[0mv2\u001b[0m \u001b[1;32mas\u001b[0m \u001b[0mtf\u001b[0m\u001b[1;33m\u001b[0m\u001b[1;33m\u001b[0m\u001b[0m\n\u001b[0m\u001b[0;32m     24\u001b[0m \u001b[1;33m\u001b[0m\u001b[0m\n\u001b[0;32m     25\u001b[0m \u001b[1;32mfrom\u001b[0m \u001b[0mkeras\u001b[0m\u001b[1;33m.\u001b[0m\u001b[0msrc\u001b[0m \u001b[1;32mimport\u001b[0m \u001b[0mbackend\u001b[0m\u001b[1;33m\u001b[0m\u001b[1;33m\u001b[0m\u001b[0m\n",
      "\u001b[1;31mModuleNotFoundError\u001b[0m: No module named 'tensorflow'"
     ]
    }
   ],
   "source": [
    "import matplotlib.pyplot as plt\n",
    "import seaborn as sns\n",
    "import matplotlib.patheffects as path_effects\n",
    "import pandas as pd\n",
    "import keras\n",
    "from keras.models import Sequential\n",
    "from keras.layers import Dense, Dropout\n",
    "import time\n",
    "from sklearn.utils import resample\n",
    "import warnings\n",
    "warnings.filterwarnings('ignore')"
   ]
  },
  {
   "cell_type": "code",
   "execution_count": null,
   "metadata": {
    "colab": {
     "base_uri": "https://localhost:8080/",
     "height": 35
    },
    "id": "0e8617bf",
    "outputId": "ac0fcdb3-fc4d-4894-a339-391a3a475ed0"
   },
   "outputs": [],
   "source": [
    "keras.__version__"
   ]
  },
  {
   "cell_type": "code",
   "execution_count": null,
   "metadata": {
    "colab": {
     "base_uri": "https://localhost:8080/",
     "height": 35
    },
    "id": "f89748b1",
    "outputId": "995c6d62-ba36-4c74-d666-a6d01556c9d9"
   },
   "outputs": [],
   "source": [
    "pd.__version__"
   ]
  },
  {
   "cell_type": "code",
   "execution_count": null,
   "metadata": {
    "colab": {
     "base_uri": "https://localhost:8080/",
     "height": 35
    },
    "id": "531bdb01",
    "outputId": "b1b2f957-b20c-402c-c33e-5088138dc00c"
   },
   "outputs": [],
   "source": [
    "sns.__version__"
   ]
  },
  {
   "cell_type": "markdown",
   "metadata": {
    "id": "9203185d"
   },
   "source": [
    "<a id=\"data_preprocessing\"></a>\n",
    "\n",
    "<h2 align=center><b>Data Preprocessing</b></h2>\n",
    "\n",
    "<p>Data preprocessing can refer to manipulation or dropping of data before it is used in order to ensure or enhance performance, and is an important step in the data mining process. The phrase \"garbage in, garbage out\" is particularly applicable to data mining and machine learning projects.</p>"
   ]
  },
  {
   "cell_type": "markdown",
   "metadata": {
    "id": "1912d631"
   },
   "source": [
    "### 2.1. Uploading data"
   ]
  },
  {
   "cell_type": "code",
   "execution_count": 4,
   "metadata": {
    "id": "a3fd6741",
    "scrolled": true
   },
   "outputs": [],
   "source": [
    "df = pd.read_csv('neo.csv')\n",
    "HAZARDOUS=df['hazardous']"
   ]
  },
  {
   "cell_type": "code",
   "execution_count": 5,
   "metadata": {
    "colab": {
     "base_uri": "https://localhost:8080/",
     "height": 626
    },
    "id": "429686da",
    "outputId": "471687af-5a9c-497b-d8ac-004a20bd1ce3"
   },
   "outputs": [
    {
     "data": {
      "text/html": [
       "<div>\n",
       "<style scoped>\n",
       "    .dataframe tbody tr th:only-of-type {\n",
       "        vertical-align: middle;\n",
       "    }\n",
       "\n",
       "    .dataframe tbody tr th {\n",
       "        vertical-align: top;\n",
       "    }\n",
       "\n",
       "    .dataframe thead th {\n",
       "        text-align: right;\n",
       "    }\n",
       "</style>\n",
       "<table border=\"1\" class=\"dataframe\">\n",
       "  <thead>\n",
       "    <tr style=\"text-align: right;\">\n",
       "      <th></th>\n",
       "      <th>id</th>\n",
       "      <th>name</th>\n",
       "      <th>est_diameter_min</th>\n",
       "      <th>est_diameter_max</th>\n",
       "      <th>relative_velocity</th>\n",
       "      <th>miss_distance</th>\n",
       "      <th>orbiting_body</th>\n",
       "      <th>sentry_object</th>\n",
       "      <th>absolute_magnitude</th>\n",
       "      <th>hazardous</th>\n",
       "    </tr>\n",
       "  </thead>\n",
       "  <tbody>\n",
       "    <tr>\n",
       "      <th>0</th>\n",
       "      <td>2162635</td>\n",
       "      <td>162635 (2000 SS164)</td>\n",
       "      <td>1.198271</td>\n",
       "      <td>2.679415</td>\n",
       "      <td>13569.249224</td>\n",
       "      <td>5.483974e+07</td>\n",
       "      <td>Earth</td>\n",
       "      <td>False</td>\n",
       "      <td>16.73</td>\n",
       "      <td>False</td>\n",
       "    </tr>\n",
       "    <tr>\n",
       "      <th>1</th>\n",
       "      <td>2277475</td>\n",
       "      <td>277475 (2005 WK4)</td>\n",
       "      <td>0.265800</td>\n",
       "      <td>0.594347</td>\n",
       "      <td>73588.726663</td>\n",
       "      <td>6.143813e+07</td>\n",
       "      <td>Earth</td>\n",
       "      <td>False</td>\n",
       "      <td>20.00</td>\n",
       "      <td>True</td>\n",
       "    </tr>\n",
       "    <tr>\n",
       "      <th>2</th>\n",
       "      <td>2512244</td>\n",
       "      <td>512244 (2015 YE18)</td>\n",
       "      <td>0.722030</td>\n",
       "      <td>1.614507</td>\n",
       "      <td>114258.692129</td>\n",
       "      <td>4.979872e+07</td>\n",
       "      <td>Earth</td>\n",
       "      <td>False</td>\n",
       "      <td>17.83</td>\n",
       "      <td>False</td>\n",
       "    </tr>\n",
       "    <tr>\n",
       "      <th>3</th>\n",
       "      <td>3596030</td>\n",
       "      <td>(2012 BV13)</td>\n",
       "      <td>0.096506</td>\n",
       "      <td>0.215794</td>\n",
       "      <td>24764.303138</td>\n",
       "      <td>2.543497e+07</td>\n",
       "      <td>Earth</td>\n",
       "      <td>False</td>\n",
       "      <td>22.20</td>\n",
       "      <td>False</td>\n",
       "    </tr>\n",
       "    <tr>\n",
       "      <th>4</th>\n",
       "      <td>3667127</td>\n",
       "      <td>(2014 GE35)</td>\n",
       "      <td>0.255009</td>\n",
       "      <td>0.570217</td>\n",
       "      <td>42737.733765</td>\n",
       "      <td>4.627557e+07</td>\n",
       "      <td>Earth</td>\n",
       "      <td>False</td>\n",
       "      <td>20.09</td>\n",
       "      <td>True</td>\n",
       "    </tr>\n",
       "    <tr>\n",
       "      <th>5</th>\n",
       "      <td>54138696</td>\n",
       "      <td>(2021 GY23)</td>\n",
       "      <td>0.036354</td>\n",
       "      <td>0.081291</td>\n",
       "      <td>34297.587778</td>\n",
       "      <td>4.058569e+07</td>\n",
       "      <td>Earth</td>\n",
       "      <td>False</td>\n",
       "      <td>24.32</td>\n",
       "      <td>False</td>\n",
       "    </tr>\n",
       "    <tr>\n",
       "      <th>6</th>\n",
       "      <td>54189957</td>\n",
       "      <td>(2021 PY40)</td>\n",
       "      <td>0.171615</td>\n",
       "      <td>0.383743</td>\n",
       "      <td>27529.472307</td>\n",
       "      <td>2.906912e+07</td>\n",
       "      <td>Earth</td>\n",
       "      <td>False</td>\n",
       "      <td>20.95</td>\n",
       "      <td>False</td>\n",
       "    </tr>\n",
       "    <tr>\n",
       "      <th>7</th>\n",
       "      <td>54230078</td>\n",
       "      <td>(2021 XD6)</td>\n",
       "      <td>0.005328</td>\n",
       "      <td>0.011914</td>\n",
       "      <td>57544.470083</td>\n",
       "      <td>5.511502e+07</td>\n",
       "      <td>Earth</td>\n",
       "      <td>False</td>\n",
       "      <td>28.49</td>\n",
       "      <td>False</td>\n",
       "    </tr>\n",
       "    <tr>\n",
       "      <th>8</th>\n",
       "      <td>2088213</td>\n",
       "      <td>88213 (2001 AF2)</td>\n",
       "      <td>0.350393</td>\n",
       "      <td>0.783502</td>\n",
       "      <td>56625.210122</td>\n",
       "      <td>6.903598e+07</td>\n",
       "      <td>Earth</td>\n",
       "      <td>False</td>\n",
       "      <td>19.40</td>\n",
       "      <td>False</td>\n",
       "    </tr>\n",
       "    <tr>\n",
       "      <th>9</th>\n",
       "      <td>3766065</td>\n",
       "      <td>(2016 YM)</td>\n",
       "      <td>0.105817</td>\n",
       "      <td>0.236614</td>\n",
       "      <td>48425.840329</td>\n",
       "      <td>3.835526e+07</td>\n",
       "      <td>Earth</td>\n",
       "      <td>False</td>\n",
       "      <td>22.00</td>\n",
       "      <td>False</td>\n",
       "    </tr>\n",
       "  </tbody>\n",
       "</table>\n",
       "</div>"
      ],
      "text/plain": [
       "         id                 name  est_diameter_min  est_diameter_max  \\\n",
       "0   2162635  162635 (2000 SS164)          1.198271          2.679415   \n",
       "1   2277475    277475 (2005 WK4)          0.265800          0.594347   \n",
       "2   2512244   512244 (2015 YE18)          0.722030          1.614507   \n",
       "3   3596030          (2012 BV13)          0.096506          0.215794   \n",
       "4   3667127          (2014 GE35)          0.255009          0.570217   \n",
       "5  54138696          (2021 GY23)          0.036354          0.081291   \n",
       "6  54189957          (2021 PY40)          0.171615          0.383743   \n",
       "7  54230078           (2021 XD6)          0.005328          0.011914   \n",
       "8   2088213     88213 (2001 AF2)          0.350393          0.783502   \n",
       "9   3766065            (2016 YM)          0.105817          0.236614   \n",
       "\n",
       "   relative_velocity  miss_distance orbiting_body  sentry_object  \\\n",
       "0       13569.249224   5.483974e+07         Earth          False   \n",
       "1       73588.726663   6.143813e+07         Earth          False   \n",
       "2      114258.692129   4.979872e+07         Earth          False   \n",
       "3       24764.303138   2.543497e+07         Earth          False   \n",
       "4       42737.733765   4.627557e+07         Earth          False   \n",
       "5       34297.587778   4.058569e+07         Earth          False   \n",
       "6       27529.472307   2.906912e+07         Earth          False   \n",
       "7       57544.470083   5.511502e+07         Earth          False   \n",
       "8       56625.210122   6.903598e+07         Earth          False   \n",
       "9       48425.840329   3.835526e+07         Earth          False   \n",
       "\n",
       "   absolute_magnitude  hazardous  \n",
       "0               16.73      False  \n",
       "1               20.00       True  \n",
       "2               17.83      False  \n",
       "3               22.20      False  \n",
       "4               20.09       True  \n",
       "5               24.32      False  \n",
       "6               20.95      False  \n",
       "7               28.49      False  \n",
       "8               19.40      False  \n",
       "9               22.00      False  "
      ]
     },
     "execution_count": 5,
     "metadata": {},
     "output_type": "execute_result"
    }
   ],
   "source": [
    "df.head(10)"
   ]
  },
  {
   "cell_type": "code",
   "execution_count": 6,
   "metadata": {
    "colab": {
     "base_uri": "https://localhost:8080/"
    },
    "id": "52ada76b",
    "outputId": "dd0d3c03-30ea-400f-dc35-46497fb5f95f"
   },
   "outputs": [
    {
     "data": {
      "text/plain": [
       "0        False\n",
       "1         True\n",
       "2        False\n",
       "3        False\n",
       "4         True\n",
       "         ...  \n",
       "90831    False\n",
       "90832    False\n",
       "90833    False\n",
       "90834    False\n",
       "90835    False\n",
       "Name: hazardous, Length: 90836, dtype: bool"
      ]
     },
     "execution_count": 6,
     "metadata": {},
     "output_type": "execute_result"
    }
   ],
   "source": [
    "HAZARDOUS"
   ]
  },
  {
   "cell_type": "markdown",
   "metadata": {
    "id": "4232869f"
   },
   "source": [
    "### 2.2. Removing unnecessary columns\n",
    "\n",
    "<p>As we can see, there is only 1 unique value in <code>orbiting_body</code> and <code>sentry_object</code>. Because of that, we are dropping there columns. In addition, we don't need to use id and name parameters.</p>"
   ]
  },
  {
   "cell_type": "code",
   "execution_count": 7,
   "metadata": {
    "colab": {
     "base_uri": "https://localhost:8080/"
    },
    "id": "982aea20",
    "outputId": "95d89d3b-061f-47db-f247-7c19378a797d"
   },
   "outputs": [
    {
     "data": {
      "text/plain": [
       "Earth    90836\n",
       "Name: orbiting_body, dtype: int64"
      ]
     },
     "execution_count": 7,
     "metadata": {},
     "output_type": "execute_result"
    }
   ],
   "source": [
    "df['orbiting_body'].value_counts()"
   ]
  },
  {
   "cell_type": "code",
   "execution_count": 8,
   "metadata": {
    "colab": {
     "base_uri": "https://localhost:8080/"
    },
    "id": "37072dda",
    "outputId": "18c76ca1-3acc-49a4-9d87-3db40970d504"
   },
   "outputs": [
    {
     "data": {
      "text/plain": [
       "False    90836\n",
       "Name: sentry_object, dtype: int64"
      ]
     },
     "execution_count": 8,
     "metadata": {},
     "output_type": "execute_result"
    }
   ],
   "source": [
    "df['sentry_object'].value_counts()"
   ]
  },
  {
   "cell_type": "code",
   "execution_count": 9,
   "metadata": {
    "id": "a47ba48f"
   },
   "outputs": [],
   "source": [
    "df.drop(['orbiting_body', 'sentry_object', 'id', 'name'], axis = 1, inplace = True)"
   ]
  },
  {
   "cell_type": "markdown",
   "metadata": {
    "id": "deb76d22"
   },
   "source": [
    "### 2.3. Looking for anomalies and duplicated datas\n",
    "\n",
    "<p>Dependent and independent variables, in other words, the data in the columns are checked for unspecified values.</p>"
   ]
  },
  {
   "cell_type": "code",
   "execution_count": 10,
   "metadata": {
    "colab": {
     "base_uri": "https://localhost:8080/"
    },
    "id": "011e0c46",
    "outputId": "0a5c93fb-c571-4918-f94d-70826e94c953"
   },
   "outputs": [
    {
     "data": {
      "text/plain": [
       "est_diameter_min      0\n",
       "est_diameter_max      0\n",
       "relative_velocity     0\n",
       "miss_distance         0\n",
       "absolute_magnitude    0\n",
       "hazardous             0\n",
       "dtype: int64"
      ]
     },
     "execution_count": 10,
     "metadata": {},
     "output_type": "execute_result"
    }
   ],
   "source": [
    "df.isnull().sum()"
   ]
  },
  {
   "cell_type": "markdown",
   "metadata": {
    "id": "747c5cd2"
   },
   "source": [
    "Let's get first and last 10 rows."
   ]
  },
  {
   "cell_type": "code",
   "execution_count": 11,
   "metadata": {
    "colab": {
     "base_uri": "https://localhost:8080/",
     "height": 363
    },
    "id": "0f426798",
    "outputId": "4d9e7510-5c45-49bf-f29e-90a5b3ecb80a"
   },
   "outputs": [
    {
     "data": {
      "text/html": [
       "<div>\n",
       "<style scoped>\n",
       "    .dataframe tbody tr th:only-of-type {\n",
       "        vertical-align: middle;\n",
       "    }\n",
       "\n",
       "    .dataframe tbody tr th {\n",
       "        vertical-align: top;\n",
       "    }\n",
       "\n",
       "    .dataframe thead th {\n",
       "        text-align: right;\n",
       "    }\n",
       "</style>\n",
       "<table border=\"1\" class=\"dataframe\">\n",
       "  <thead>\n",
       "    <tr style=\"text-align: right;\">\n",
       "      <th></th>\n",
       "      <th>est_diameter_min</th>\n",
       "      <th>est_diameter_max</th>\n",
       "      <th>relative_velocity</th>\n",
       "      <th>miss_distance</th>\n",
       "      <th>absolute_magnitude</th>\n",
       "      <th>hazardous</th>\n",
       "    </tr>\n",
       "  </thead>\n",
       "  <tbody>\n",
       "    <tr>\n",
       "      <th>0</th>\n",
       "      <td>1.198271</td>\n",
       "      <td>2.679415</td>\n",
       "      <td>13569.249224</td>\n",
       "      <td>5.483974e+07</td>\n",
       "      <td>16.73</td>\n",
       "      <td>False</td>\n",
       "    </tr>\n",
       "    <tr>\n",
       "      <th>1</th>\n",
       "      <td>0.265800</td>\n",
       "      <td>0.594347</td>\n",
       "      <td>73588.726663</td>\n",
       "      <td>6.143813e+07</td>\n",
       "      <td>20.00</td>\n",
       "      <td>True</td>\n",
       "    </tr>\n",
       "    <tr>\n",
       "      <th>2</th>\n",
       "      <td>0.722030</td>\n",
       "      <td>1.614507</td>\n",
       "      <td>114258.692129</td>\n",
       "      <td>4.979872e+07</td>\n",
       "      <td>17.83</td>\n",
       "      <td>False</td>\n",
       "    </tr>\n",
       "    <tr>\n",
       "      <th>3</th>\n",
       "      <td>0.096506</td>\n",
       "      <td>0.215794</td>\n",
       "      <td>24764.303138</td>\n",
       "      <td>2.543497e+07</td>\n",
       "      <td>22.20</td>\n",
       "      <td>False</td>\n",
       "    </tr>\n",
       "    <tr>\n",
       "      <th>4</th>\n",
       "      <td>0.255009</td>\n",
       "      <td>0.570217</td>\n",
       "      <td>42737.733765</td>\n",
       "      <td>4.627557e+07</td>\n",
       "      <td>20.09</td>\n",
       "      <td>True</td>\n",
       "    </tr>\n",
       "    <tr>\n",
       "      <th>5</th>\n",
       "      <td>0.036354</td>\n",
       "      <td>0.081291</td>\n",
       "      <td>34297.587778</td>\n",
       "      <td>4.058569e+07</td>\n",
       "      <td>24.32</td>\n",
       "      <td>False</td>\n",
       "    </tr>\n",
       "    <tr>\n",
       "      <th>6</th>\n",
       "      <td>0.171615</td>\n",
       "      <td>0.383743</td>\n",
       "      <td>27529.472307</td>\n",
       "      <td>2.906912e+07</td>\n",
       "      <td>20.95</td>\n",
       "      <td>False</td>\n",
       "    </tr>\n",
       "    <tr>\n",
       "      <th>7</th>\n",
       "      <td>0.005328</td>\n",
       "      <td>0.011914</td>\n",
       "      <td>57544.470083</td>\n",
       "      <td>5.511502e+07</td>\n",
       "      <td>28.49</td>\n",
       "      <td>False</td>\n",
       "    </tr>\n",
       "    <tr>\n",
       "      <th>8</th>\n",
       "      <td>0.350393</td>\n",
       "      <td>0.783502</td>\n",
       "      <td>56625.210122</td>\n",
       "      <td>6.903598e+07</td>\n",
       "      <td>19.40</td>\n",
       "      <td>False</td>\n",
       "    </tr>\n",
       "    <tr>\n",
       "      <th>9</th>\n",
       "      <td>0.105817</td>\n",
       "      <td>0.236614</td>\n",
       "      <td>48425.840329</td>\n",
       "      <td>3.835526e+07</td>\n",
       "      <td>22.00</td>\n",
       "      <td>False</td>\n",
       "    </tr>\n",
       "  </tbody>\n",
       "</table>\n",
       "</div>"
      ],
      "text/plain": [
       "   est_diameter_min  est_diameter_max  relative_velocity  miss_distance  \\\n",
       "0          1.198271          2.679415       13569.249224   5.483974e+07   \n",
       "1          0.265800          0.594347       73588.726663   6.143813e+07   \n",
       "2          0.722030          1.614507      114258.692129   4.979872e+07   \n",
       "3          0.096506          0.215794       24764.303138   2.543497e+07   \n",
       "4          0.255009          0.570217       42737.733765   4.627557e+07   \n",
       "5          0.036354          0.081291       34297.587778   4.058569e+07   \n",
       "6          0.171615          0.383743       27529.472307   2.906912e+07   \n",
       "7          0.005328          0.011914       57544.470083   5.511502e+07   \n",
       "8          0.350393          0.783502       56625.210122   6.903598e+07   \n",
       "9          0.105817          0.236614       48425.840329   3.835526e+07   \n",
       "\n",
       "   absolute_magnitude  hazardous  \n",
       "0               16.73      False  \n",
       "1               20.00       True  \n",
       "2               17.83      False  \n",
       "3               22.20      False  \n",
       "4               20.09       True  \n",
       "5               24.32      False  \n",
       "6               20.95      False  \n",
       "7               28.49      False  \n",
       "8               19.40      False  \n",
       "9               22.00      False  "
      ]
     },
     "execution_count": 11,
     "metadata": {},
     "output_type": "execute_result"
    }
   ],
   "source": [
    "df.head(10)"
   ]
  },
  {
   "cell_type": "code",
   "execution_count": 12,
   "metadata": {
    "colab": {
     "base_uri": "https://localhost:8080/",
     "height": 363
    },
    "id": "30cbe199",
    "outputId": "961c9cf8-bae5-4c20-a7a6-aa4b368aaa8a"
   },
   "outputs": [
    {
     "data": {
      "text/html": [
       "<div>\n",
       "<style scoped>\n",
       "    .dataframe tbody tr th:only-of-type {\n",
       "        vertical-align: middle;\n",
       "    }\n",
       "\n",
       "    .dataframe tbody tr th {\n",
       "        vertical-align: top;\n",
       "    }\n",
       "\n",
       "    .dataframe thead th {\n",
       "        text-align: right;\n",
       "    }\n",
       "</style>\n",
       "<table border=\"1\" class=\"dataframe\">\n",
       "  <thead>\n",
       "    <tr style=\"text-align: right;\">\n",
       "      <th></th>\n",
       "      <th>est_diameter_min</th>\n",
       "      <th>est_diameter_max</th>\n",
       "      <th>relative_velocity</th>\n",
       "      <th>miss_distance</th>\n",
       "      <th>absolute_magnitude</th>\n",
       "      <th>hazardous</th>\n",
       "    </tr>\n",
       "  </thead>\n",
       "  <tbody>\n",
       "    <tr>\n",
       "      <th>90826</th>\n",
       "      <td>0.086807</td>\n",
       "      <td>0.194106</td>\n",
       "      <td>45322.795023</td>\n",
       "      <td>4.095345e+07</td>\n",
       "      <td>22.43</td>\n",
       "      <td>False</td>\n",
       "    </tr>\n",
       "    <tr>\n",
       "      <th>90827</th>\n",
       "      <td>0.024692</td>\n",
       "      <td>0.055213</td>\n",
       "      <td>14655.044804</td>\n",
       "      <td>1.766750e+07</td>\n",
       "      <td>25.16</td>\n",
       "      <td>False</td>\n",
       "    </tr>\n",
       "    <tr>\n",
       "      <th>90828</th>\n",
       "      <td>0.036691</td>\n",
       "      <td>0.082043</td>\n",
       "      <td>26172.119254</td>\n",
       "      <td>2.249368e+06</td>\n",
       "      <td>24.30</td>\n",
       "      <td>False</td>\n",
       "    </tr>\n",
       "    <tr>\n",
       "      <th>90829</th>\n",
       "      <td>0.123184</td>\n",
       "      <td>0.275448</td>\n",
       "      <td>80671.310009</td>\n",
       "      <td>6.897365e+07</td>\n",
       "      <td>21.67</td>\n",
       "      <td>False</td>\n",
       "    </tr>\n",
       "    <tr>\n",
       "      <th>90830</th>\n",
       "      <td>0.069913</td>\n",
       "      <td>0.156329</td>\n",
       "      <td>38102.469622</td>\n",
       "      <td>4.667988e+07</td>\n",
       "      <td>22.90</td>\n",
       "      <td>False</td>\n",
       "    </tr>\n",
       "    <tr>\n",
       "      <th>90831</th>\n",
       "      <td>0.026580</td>\n",
       "      <td>0.059435</td>\n",
       "      <td>52078.886692</td>\n",
       "      <td>1.230039e+07</td>\n",
       "      <td>25.00</td>\n",
       "      <td>False</td>\n",
       "    </tr>\n",
       "    <tr>\n",
       "      <th>90832</th>\n",
       "      <td>0.016771</td>\n",
       "      <td>0.037501</td>\n",
       "      <td>46114.605073</td>\n",
       "      <td>5.432121e+07</td>\n",
       "      <td>26.00</td>\n",
       "      <td>False</td>\n",
       "    </tr>\n",
       "    <tr>\n",
       "      <th>90833</th>\n",
       "      <td>0.031956</td>\n",
       "      <td>0.071456</td>\n",
       "      <td>7566.807732</td>\n",
       "      <td>2.840077e+07</td>\n",
       "      <td>24.60</td>\n",
       "      <td>False</td>\n",
       "    </tr>\n",
       "    <tr>\n",
       "      <th>90834</th>\n",
       "      <td>0.007321</td>\n",
       "      <td>0.016370</td>\n",
       "      <td>69199.154484</td>\n",
       "      <td>6.869206e+07</td>\n",
       "      <td>27.80</td>\n",
       "      <td>False</td>\n",
       "    </tr>\n",
       "    <tr>\n",
       "      <th>90835</th>\n",
       "      <td>0.039862</td>\n",
       "      <td>0.089133</td>\n",
       "      <td>27024.455553</td>\n",
       "      <td>5.977213e+07</td>\n",
       "      <td>24.12</td>\n",
       "      <td>False</td>\n",
       "    </tr>\n",
       "  </tbody>\n",
       "</table>\n",
       "</div>"
      ],
      "text/plain": [
       "       est_diameter_min  est_diameter_max  relative_velocity  miss_distance  \\\n",
       "90826          0.086807          0.194106       45322.795023   4.095345e+07   \n",
       "90827          0.024692          0.055213       14655.044804   1.766750e+07   \n",
       "90828          0.036691          0.082043       26172.119254   2.249368e+06   \n",
       "90829          0.123184          0.275448       80671.310009   6.897365e+07   \n",
       "90830          0.069913          0.156329       38102.469622   4.667988e+07   \n",
       "90831          0.026580          0.059435       52078.886692   1.230039e+07   \n",
       "90832          0.016771          0.037501       46114.605073   5.432121e+07   \n",
       "90833          0.031956          0.071456        7566.807732   2.840077e+07   \n",
       "90834          0.007321          0.016370       69199.154484   6.869206e+07   \n",
       "90835          0.039862          0.089133       27024.455553   5.977213e+07   \n",
       "\n",
       "       absolute_magnitude  hazardous  \n",
       "90826               22.43      False  \n",
       "90827               25.16      False  \n",
       "90828               24.30      False  \n",
       "90829               21.67      False  \n",
       "90830               22.90      False  \n",
       "90831               25.00      False  \n",
       "90832               26.00      False  \n",
       "90833               24.60      False  \n",
       "90834               27.80      False  \n",
       "90835               24.12      False  "
      ]
     },
     "execution_count": 12,
     "metadata": {},
     "output_type": "execute_result"
    }
   ],
   "source": [
    "df.tail(10)"
   ]
  },
  {
   "cell_type": "markdown",
   "metadata": {
    "id": "2a768ee0"
   },
   "source": [
    "Now, let's get description of the data in the DataFrame."
   ]
  },
  {
   "cell_type": "code",
   "execution_count": 13,
   "metadata": {
    "colab": {
     "base_uri": "https://localhost:8080/",
     "height": 206
    },
    "id": "268ced44",
    "outputId": "5bec88f7-1819-4b75-98c7-d00e381ed288"
   },
   "outputs": [
    {
     "data": {
      "text/html": [
       "<div>\n",
       "<style scoped>\n",
       "    .dataframe tbody tr th:only-of-type {\n",
       "        vertical-align: middle;\n",
       "    }\n",
       "\n",
       "    .dataframe tbody tr th {\n",
       "        vertical-align: top;\n",
       "    }\n",
       "\n",
       "    .dataframe thead th {\n",
       "        text-align: right;\n",
       "    }\n",
       "</style>\n",
       "<table border=\"1\" class=\"dataframe\">\n",
       "  <thead>\n",
       "    <tr style=\"text-align: right;\">\n",
       "      <th></th>\n",
       "      <th>count</th>\n",
       "      <th>mean</th>\n",
       "      <th>std</th>\n",
       "      <th>min</th>\n",
       "      <th>25%</th>\n",
       "      <th>50%</th>\n",
       "      <th>75%</th>\n",
       "      <th>max</th>\n",
       "    </tr>\n",
       "  </thead>\n",
       "  <tbody>\n",
       "    <tr>\n",
       "      <th>est_diameter_min</th>\n",
       "      <td>90836.0</td>\n",
       "      <td>1.274321e-01</td>\n",
       "      <td>2.985112e-01</td>\n",
       "      <td>0.000609</td>\n",
       "      <td>1.925551e-02</td>\n",
       "      <td>4.836765e-02</td>\n",
       "      <td>1.434019e-01</td>\n",
       "      <td>3.789265e+01</td>\n",
       "    </tr>\n",
       "    <tr>\n",
       "      <th>est_diameter_max</th>\n",
       "      <td>90836.0</td>\n",
       "      <td>2.849469e-01</td>\n",
       "      <td>6.674914e-01</td>\n",
       "      <td>0.001362</td>\n",
       "      <td>4.305662e-02</td>\n",
       "      <td>1.081534e-01</td>\n",
       "      <td>3.206564e-01</td>\n",
       "      <td>8.473054e+01</td>\n",
       "    </tr>\n",
       "    <tr>\n",
       "      <th>relative_velocity</th>\n",
       "      <td>90836.0</td>\n",
       "      <td>4.806692e+04</td>\n",
       "      <td>2.529330e+04</td>\n",
       "      <td>203.346433</td>\n",
       "      <td>2.861902e+04</td>\n",
       "      <td>4.419012e+04</td>\n",
       "      <td>6.292360e+04</td>\n",
       "      <td>2.369901e+05</td>\n",
       "    </tr>\n",
       "    <tr>\n",
       "      <th>miss_distance</th>\n",
       "      <td>90836.0</td>\n",
       "      <td>3.706655e+07</td>\n",
       "      <td>2.235204e+07</td>\n",
       "      <td>6745.532516</td>\n",
       "      <td>1.721082e+07</td>\n",
       "      <td>3.784658e+07</td>\n",
       "      <td>5.654900e+07</td>\n",
       "      <td>7.479865e+07</td>\n",
       "    </tr>\n",
       "    <tr>\n",
       "      <th>absolute_magnitude</th>\n",
       "      <td>90836.0</td>\n",
       "      <td>2.352710e+01</td>\n",
       "      <td>2.894086e+00</td>\n",
       "      <td>9.230000</td>\n",
       "      <td>2.134000e+01</td>\n",
       "      <td>2.370000e+01</td>\n",
       "      <td>2.570000e+01</td>\n",
       "      <td>3.320000e+01</td>\n",
       "    </tr>\n",
       "  </tbody>\n",
       "</table>\n",
       "</div>"
      ],
      "text/plain": [
       "                      count          mean           std          min  \\\n",
       "est_diameter_min    90836.0  1.274321e-01  2.985112e-01     0.000609   \n",
       "est_diameter_max    90836.0  2.849469e-01  6.674914e-01     0.001362   \n",
       "relative_velocity   90836.0  4.806692e+04  2.529330e+04   203.346433   \n",
       "miss_distance       90836.0  3.706655e+07  2.235204e+07  6745.532516   \n",
       "absolute_magnitude  90836.0  2.352710e+01  2.894086e+00     9.230000   \n",
       "\n",
       "                             25%           50%           75%           max  \n",
       "est_diameter_min    1.925551e-02  4.836765e-02  1.434019e-01  3.789265e+01  \n",
       "est_diameter_max    4.305662e-02  1.081534e-01  3.206564e-01  8.473054e+01  \n",
       "relative_velocity   2.861902e+04  4.419012e+04  6.292360e+04  2.369901e+05  \n",
       "miss_distance       1.721082e+07  3.784658e+07  5.654900e+07  7.479865e+07  \n",
       "absolute_magnitude  2.134000e+01  2.370000e+01  2.570000e+01  3.320000e+01  "
      ]
     },
     "execution_count": 13,
     "metadata": {},
     "output_type": "execute_result"
    }
   ],
   "source": [
    "df.describe().T"
   ]
  },
  {
   "cell_type": "markdown",
   "metadata": {
    "id": "d98f2cb1"
   },
   "source": [
    "Check number of duplicated rows with <code>duplicated().sum()</code>."
   ]
  },
  {
   "cell_type": "code",
   "execution_count": 14,
   "metadata": {
    "colab": {
     "base_uri": "https://localhost:8080/"
    },
    "id": "60900bdf",
    "outputId": "c3c991dd-35e4-48d4-eb48-20c2b1f37f48"
   },
   "outputs": [
    {
     "data": {
      "text/plain": [
       "7"
      ]
     },
     "execution_count": 14,
     "metadata": {},
     "output_type": "execute_result"
    }
   ],
   "source": [
    "df.duplicated().sum()"
   ]
  },
  {
   "cell_type": "markdown",
   "metadata": {
    "id": "3e5b7474"
   },
   "source": [
    "Drop duplicated rows."
   ]
  },
  {
   "cell_type": "code",
   "execution_count": 15,
   "metadata": {
    "id": "31f90b99"
   },
   "outputs": [],
   "source": [
    "dp = df[df.duplicated(keep=False)]\n",
    "dp.head(2)\n",
    "df.drop_duplicates(inplace= True)"
   ]
  },
  {
   "cell_type": "markdown",
   "metadata": {
    "id": "a2182d40"
   },
   "source": [
    "Done!"
   ]
  },
  {
   "cell_type": "code",
   "execution_count": 16,
   "metadata": {
    "colab": {
     "base_uri": "https://localhost:8080/"
    },
    "id": "dc5f5a32",
    "outputId": "02155479-ae8b-4cd1-bf8f-39e157b61687"
   },
   "outputs": [
    {
     "data": {
      "text/plain": [
       "0"
      ]
     },
     "execution_count": 16,
     "metadata": {},
     "output_type": "execute_result"
    }
   ],
   "source": [
    "df.duplicated().sum()"
   ]
  },
  {
   "cell_type": "markdown",
   "metadata": {
    "id": "b70b13e6"
   },
   "source": [
    "Let's print a concise summary of our DataFrame."
   ]
  },
  {
   "cell_type": "code",
   "execution_count": 17,
   "metadata": {
    "colab": {
     "base_uri": "https://localhost:8080/"
    },
    "id": "36a9ec41",
    "outputId": "1ea0e6b9-cd50-4f0e-f97d-a5d15dc14dab"
   },
   "outputs": [
    {
     "name": "stdout",
     "output_type": "stream",
     "text": [
      "<class 'pandas.core.frame.DataFrame'>\n",
      "Int64Index: 90829 entries, 0 to 90835\n",
      "Data columns (total 6 columns):\n",
      " #   Column              Non-Null Count  Dtype  \n",
      "---  ------              --------------  -----  \n",
      " 0   est_diameter_min    90829 non-null  float64\n",
      " 1   est_diameter_max    90829 non-null  float64\n",
      " 2   relative_velocity   90829 non-null  float64\n",
      " 3   miss_distance       90829 non-null  float64\n",
      " 4   absolute_magnitude  90829 non-null  float64\n",
      " 5   hazardous           90829 non-null  bool   \n",
      "dtypes: bool(1), float64(5)\n",
      "memory usage: 4.2 MB\n"
     ]
    }
   ],
   "source": [
    "df.info()"
   ]
  },
  {
   "cell_type": "markdown",
   "metadata": {
    "id": "5c5ec54f"
   },
   "source": [
    "We can see number of unique values and it self in our independent variables with <code>.value_counts()</code>"
   ]
  },
  {
   "cell_type": "code",
   "execution_count": 18,
   "metadata": {
    "colab": {
     "base_uri": "https://localhost:8080/"
    },
    "id": "1d7e4649",
    "outputId": "7fd2ccd2-4fbc-42c6-afc9-520b825beeca"
   },
   "outputs": [
    {
     "data": {
      "text/plain": [
       "False    81996\n",
       "True      8840\n",
       "Name: hazardous, dtype: int64"
      ]
     },
     "execution_count": 18,
     "metadata": {},
     "output_type": "execute_result"
    }
   ],
   "source": [
    "HAZARDOUS.value_counts()"
   ]
  },
  {
   "cell_type": "markdown",
   "metadata": {
    "id": "7d971fa1"
   },
   "source": [
    "Find the unique elements of an array with <code>.unique()</code>"
   ]
  },
  {
   "cell_type": "code",
   "execution_count": 19,
   "metadata": {
    "colab": {
     "base_uri": "https://localhost:8080/"
    },
    "id": "3fe50f49",
    "outputId": "58c63d0e-a965-4350-f68f-0b4221fa6168"
   },
   "outputs": [
    {
     "data": {
      "text/plain": [
       "array([False,  True])"
      ]
     },
     "execution_count": 19,
     "metadata": {},
     "output_type": "execute_result"
    }
   ],
   "source": [
    "HAZARDOUS.unique()"
   ]
  },
  {
   "cell_type": "markdown",
   "metadata": {
    "id": "8a79ddef"
   },
   "source": [
    "### 2.4. Plotting\n",
    "\n",
    "<p>Plots were created in order to gain a different perspective on values and provide visuality.<p>"
   ]
  },
  {
   "cell_type": "code",
   "execution_count": 20,
   "metadata": {
    "colab": {
     "base_uri": "https://localhost:8080/",
     "height": 598
    },
    "id": "a93ab796",
    "outputId": "d07344d9-ba3b-420f-870f-cfcc0e55ca79"
   },
   "outputs": [
    {
     "data": {
      "image/png": "[encoded data removed]",
      "text/plain": [
       "<Figure size 504x504 with 1 Axes>"
      ]
     },
     "metadata": {},
     "output_type": "display_data"
    }
   ],
   "source": [
    "explode = (0, 0.1)\n",
    "fig = plt.figure(figsize = (7, 7), facecolor='w')\n",
    "out_df=pd.DataFrame(df.groupby('hazardous')['hazardous'].count())\n",
    "\n",
    "patches, texts, autotexts = plt.pie(out_df['hazardous'], autopct='%1.1f%%',\n",
    "                                    textprops={'color': \"w\"},\n",
    "                                    explode=explode,\n",
    "                                    startangle=90, shadow=True)\n",
    "\n",
    "for patch in patches:\n",
    "    patch.set_path_effects({path_effects.Stroke(linewidth=2.5,\n",
    "                                                foreground='w')})\n",
    "\n",
    "plt.legend(labels=['False','True'], bbox_to_anchor=(1., .95))\n",
    "plt.title('Dependent Variables Distribution')\n",
    "# plt.savefig('gender_pie')\n",
    "plt.show()"
   ]
  },
  {
   "cell_type": "markdown",
   "metadata": {
    "id": "epYUtLoWd5ka"
   },
   "source": [
    "As we can see from the pie chart, our dependent variables are imbalanced. Dealing with imbalanced datasets is a common challenge in machine learning. When your dependent variable classes are imbalanced, it can lead to biased models that perform poorly on the minority class. We are going to deal with it before training our Deep Neural Network (DNN) model."
   ]
  },
  {
   "cell_type": "code",
   "execution_count": 21,
   "metadata": {
    "colab": {
     "base_uri": "https://localhost:8080/",
     "height": 1000
    },
    "id": "31464118",
    "outputId": "0f78a968-749b-4ad8-a2f1-74e5a37c599d"
   },
   "outputs": [
    {
     "data": {
      "image/png": "[encoded data removed]",
      "text/plain": [
       "<Figure size 1080x1440 with 5 Axes>"
      ]
     },
     "metadata": {
      "needs_background": "light"
     },
     "output_type": "display_data"
    }
   ],
   "source": [
    "rows_to_plot = df.columns[:5]\n",
    "\n",
    "plt.figure(figsize=(15, 20))\n",
    "for i, label in enumerate(rows_to_plot, 1):\n",
    "    plt.subplot(len(rows_to_plot), 1, i)\n",
    "    plt.hist(df[df['hazardous'] == 1][label], color='blue', label=\"True\", alpha=0.7, density=True, bins=15)\n",
    "    plt.hist(df[df['hazardous'] == 0][label], color='red', label=\"False\", alpha=0.7, density=True, bins=15)\n",
    "    plt.title(label)\n",
    "    plt.ylabel(\"Probability\")\n",
    "    plt.xlabel(label)\n",
    "    plt.legend()\n",
    "\n",
    "plt.tight_layout()\n",
    "plt.show()"
   ]
  },
  {
   "cell_type": "markdown",
   "metadata": {
    "id": "e6300d54"
   },
   "source": [
    "Creating correlation heatmap."
   ]
  },
  {
   "cell_type": "code",
   "execution_count": 22,
   "metadata": {
    "colab": {
     "base_uri": "https://localhost:8080/",
     "height": 463
    },
    "id": "c121b898",
    "outputId": "cb4faa02-f203-473f-fb62-fe6f10b29aaa"
   },
   "outputs": [
    {
     "data": {
      "text/plain": [
       "<matplotlib.axes._subplots.AxesSubplot at 0x2e6ee35dfd0>"
      ]
     },
     "execution_count": 22,
     "metadata": {},
     "output_type": "execute_result"
    },
    {
     "data": {
      "image/png": "[encoded data removed]",
      "text/plain": [
       "<Figure size 1080x432 with 2 Axes>"
      ]
     },
     "metadata": {
      "needs_background": "light"
     },
     "output_type": "display_data"
    }
   ],
   "source": [
    "plt.figure(figsize = (15, 6))\n",
    "plt.title('Correlation Heatmap')\n",
    "sns.heatmap(df.corr(), annot = True)"
   ]
  },
  {
   "cell_type": "markdown",
   "metadata": {
    "id": "f767d2f5"
   },
   "source": [
    "### 2.5. Label encoding\n",
    "\n",
    "<p> Building Label Encoding to handle categorical variables (for hazardous/label column).</p>"
   ]
  },
  {
   "cell_type": "code",
   "execution_count": 23,
   "metadata": {
    "colab": {
     "base_uri": "https://localhost:8080/"
    },
    "id": "4716014a",
    "outputId": "bce23a4c-34e0-459f-aea3-da294bedb79c"
   },
   "outputs": [
    {
     "data": {
      "text/plain": [
       "array([0, 1], dtype=int64)"
      ]
     },
     "execution_count": 23,
     "metadata": {},
     "output_type": "execute_result"
    }
   ],
   "source": [
    "from sklearn.preprocessing import LabelEncoder\n",
    "label_encoder = LabelEncoder()\n",
    "label_encoder.fit(df['hazardous'])\n",
    "df['label'] = label_encoder.transform(df['hazardous'])\n",
    "df['label'].unique()"
   ]
  },
  {
   "cell_type": "markdown",
   "metadata": {
    "id": "efddf65a"
   },
   "source": [
    "Let's see what we have done;"
   ]
  },
  {
   "cell_type": "code",
   "execution_count": 24,
   "metadata": {
    "colab": {
     "base_uri": "https://localhost:8080/",
     "height": 206
    },
    "id": "8c50f262",
    "outputId": "e71ff20c-58e5-438a-db70-ffbbca115cac"
   },
   "outputs": [
    {
     "data": {
      "text/html": [
       "<div>\n",
       "<style scoped>\n",
       "    .dataframe tbody tr th:only-of-type {\n",
       "        vertical-align: middle;\n",
       "    }\n",
       "\n",
       "    .dataframe tbody tr th {\n",
       "        vertical-align: top;\n",
       "    }\n",
       "\n",
       "    .dataframe thead th {\n",
       "        text-align: right;\n",
       "    }\n",
       "</style>\n",
       "<table border=\"1\" class=\"dataframe\">\n",
       "  <thead>\n",
       "    <tr style=\"text-align: right;\">\n",
       "      <th></th>\n",
       "      <th>est_diameter_min</th>\n",
       "      <th>est_diameter_max</th>\n",
       "      <th>relative_velocity</th>\n",
       "      <th>miss_distance</th>\n",
       "      <th>absolute_magnitude</th>\n",
       "      <th>hazardous</th>\n",
       "      <th>label</th>\n",
       "    </tr>\n",
       "  </thead>\n",
       "  <tbody>\n",
       "    <tr>\n",
       "      <th>0</th>\n",
       "      <td>1.198271</td>\n",
       "      <td>2.679415</td>\n",
       "      <td>13569.249224</td>\n",
       "      <td>5.483974e+07</td>\n",
       "      <td>16.73</td>\n",
       "      <td>False</td>\n",
       "      <td>0</td>\n",
       "    </tr>\n",
       "    <tr>\n",
       "      <th>1</th>\n",
       "      <td>0.265800</td>\n",
       "      <td>0.594347</td>\n",
       "      <td>73588.726663</td>\n",
       "      <td>6.143813e+07</td>\n",
       "      <td>20.00</td>\n",
       "      <td>True</td>\n",
       "      <td>1</td>\n",
       "    </tr>\n",
       "    <tr>\n",
       "      <th>2</th>\n",
       "      <td>0.722030</td>\n",
       "      <td>1.614507</td>\n",
       "      <td>114258.692129</td>\n",
       "      <td>4.979872e+07</td>\n",
       "      <td>17.83</td>\n",
       "      <td>False</td>\n",
       "      <td>0</td>\n",
       "    </tr>\n",
       "    <tr>\n",
       "      <th>3</th>\n",
       "      <td>0.096506</td>\n",
       "      <td>0.215794</td>\n",
       "      <td>24764.303138</td>\n",
       "      <td>2.543497e+07</td>\n",
       "      <td>22.20</td>\n",
       "      <td>False</td>\n",
       "      <td>0</td>\n",
       "    </tr>\n",
       "    <tr>\n",
       "      <th>4</th>\n",
       "      <td>0.255009</td>\n",
       "      <td>0.570217</td>\n",
       "      <td>42737.733765</td>\n",
       "      <td>4.627557e+07</td>\n",
       "      <td>20.09</td>\n",
       "      <td>True</td>\n",
       "      <td>1</td>\n",
       "    </tr>\n",
       "  </tbody>\n",
       "</table>\n",
       "</div>"
      ],
      "text/plain": [
       "   est_diameter_min  est_diameter_max  relative_velocity  miss_distance  \\\n",
       "0          1.198271          2.679415       13569.249224   5.483974e+07   \n",
       "1          0.265800          0.594347       73588.726663   6.143813e+07   \n",
       "2          0.722030          1.614507      114258.692129   4.979872e+07   \n",
       "3          0.096506          0.215794       24764.303138   2.543497e+07   \n",
       "4          0.255009          0.570217       42737.733765   4.627557e+07   \n",
       "\n",
       "   absolute_magnitude  hazardous  label  \n",
       "0               16.73      False      0  \n",
       "1               20.00       True      1  \n",
       "2               17.83      False      0  \n",
       "3               22.20      False      0  \n",
       "4               20.09       True      1  "
      ]
     },
     "execution_count": 24,
     "metadata": {},
     "output_type": "execute_result"
    }
   ],
   "source": [
    "df.head()"
   ]
  },
  {
   "cell_type": "markdown",
   "metadata": {
    "id": "82619b64"
   },
   "source": [
    "We categorized the unique values in the hazardous column and transferred them to a different column named label."
   ]
  },
  {
   "cell_type": "markdown",
   "metadata": {
    "id": "TKLIBqvthlfm"
   },
   "source": [
    "### 2.6. Dealing with imbalanced dataset"
   ]
  },
  {
   "cell_type": "markdown",
   "metadata": {
    "id": "Yd2rWCfLjMdd"
   },
   "source": [
    "There are several strategies you can use to address this issue before training your Deep Neural Network (DNN) model:\n",
    "\n",
    "**Resampling**:\n",
    "\n",
    " - *Oversampling*: Increase the number of instances in the minority class by duplicating samples or generating synthetic data points.\n",
    " - *Undersampling*: Decrease the number of instances in the majority class by randomly removing some samples.\n",
    "\n",
    "**Weighted Loss Function**:\n",
    "\n",
    "Assign higher weights to the minority class during model training. This makes the model pay more attention to the minority class."
   ]
  },
  {
   "cell_type": "markdown",
   "metadata": {
    "id": "KyY7sYAKiAKS"
   },
   "source": [
    "The resample function is then applied to the `minority_class`. This function duplicates samples from the minority class with replacement `(replace=True)` until it matches the number of samples in the majority class `(n_samples=len(majority_class))`. This effectively increases the representation of the minority class in the dataset."
   ]
  },
  {
   "cell_type": "code",
   "execution_count": null,
   "metadata": {},
   "outputs": [],
   "source": []
  },
  {
   "cell_type": "code",
   "execution_count": 29,
   "metadata": {
    "id": "xY6qzgl4iBI5",
    "scrolled": true
   },
   "outputs": [],
   "source": [
    "import sklearn\n",
    "minority_class = df[df['label'] == 1]\n",
    "majority_class = df[df['label'] == 0]\n",
    "minority_upsampled = sklearn.utils.resample(minority_class, replace=True, n_samples=len(majority_class), random_state=42)"
   ]
  },
  {
   "cell_type": "markdown",
   "metadata": {
    "id": "pJh2xViKiIka"
   },
   "source": [
    "The upsampled minority class, stored in minority_upsampled, is concatenated with the original majority class `(majority_class)` using pd.concat. This creates a new DataFrame called `balanced_df`, where both classes are balanced."
   ]
  },
  {
   "cell_type": "code",
   "execution_count": 30,
   "metadata": {
    "id": "ZQ2Wwiv5iLwl"
   },
   "outputs": [],
   "source": [
    "balanced_df = pd.concat([majority_class, minority_upsampled])"
   ]
  },
  {
   "cell_type": "markdown",
   "metadata": {
    "id": "sBvtqKESiM7M"
   },
   "source": [
    "Shuffle the dataset."
   ]
  },
  {
   "cell_type": "code",
   "execution_count": 31,
   "metadata": {
    "colab": {
     "base_uri": "https://localhost:8080/",
     "height": 206
    },
    "id": "_8mzl-aTiWCv",
    "outputId": "55b9ca78-4e11-4646-9ac0-88bf33d764d4"
   },
   "outputs": [
    {
     "data": {
      "text/html": [
       "<div>\n",
       "<style scoped>\n",
       "    .dataframe tbody tr th:only-of-type {\n",
       "        vertical-align: middle;\n",
       "    }\n",
       "\n",
       "    .dataframe tbody tr th {\n",
       "        vertical-align: top;\n",
       "    }\n",
       "\n",
       "    .dataframe thead th {\n",
       "        text-align: right;\n",
       "    }\n",
       "</style>\n",
       "<table border=\"1\" class=\"dataframe\">\n",
       "  <thead>\n",
       "    <tr style=\"text-align: right;\">\n",
       "      <th></th>\n",
       "      <th>est_diameter_min</th>\n",
       "      <th>est_diameter_max</th>\n",
       "      <th>relative_velocity</th>\n",
       "      <th>miss_distance</th>\n",
       "      <th>absolute_magnitude</th>\n",
       "      <th>hazardous</th>\n",
       "      <th>label</th>\n",
       "    </tr>\n",
       "  </thead>\n",
       "  <tbody>\n",
       "    <tr>\n",
       "      <th>34801</th>\n",
       "      <td>0.069913</td>\n",
       "      <td>0.156329</td>\n",
       "      <td>68591.570858</td>\n",
       "      <td>1.186216e+07</td>\n",
       "      <td>22.90</td>\n",
       "      <td>False</td>\n",
       "      <td>0</td>\n",
       "    </tr>\n",
       "    <tr>\n",
       "      <th>40405</th>\n",
       "      <td>0.036691</td>\n",
       "      <td>0.082043</td>\n",
       "      <td>64069.623017</td>\n",
       "      <td>4.467340e+07</td>\n",
       "      <td>24.30</td>\n",
       "      <td>False</td>\n",
       "      <td>0</td>\n",
       "    </tr>\n",
       "    <tr>\n",
       "      <th>51575</th>\n",
       "      <td>0.477040</td>\n",
       "      <td>1.066694</td>\n",
       "      <td>74822.876347</td>\n",
       "      <td>1.321325e+07</td>\n",
       "      <td>18.73</td>\n",
       "      <td>True</td>\n",
       "      <td>1</td>\n",
       "    </tr>\n",
       "    <tr>\n",
       "      <th>84469</th>\n",
       "      <td>0.031373</td>\n",
       "      <td>0.070152</td>\n",
       "      <td>11016.075416</td>\n",
       "      <td>2.326070e+07</td>\n",
       "      <td>24.64</td>\n",
       "      <td>False</td>\n",
       "      <td>0</td>\n",
       "    </tr>\n",
       "    <tr>\n",
       "      <th>41382</th>\n",
       "      <td>0.160160</td>\n",
       "      <td>0.358129</td>\n",
       "      <td>19482.422892</td>\n",
       "      <td>5.235652e+07</td>\n",
       "      <td>21.10</td>\n",
       "      <td>False</td>\n",
       "      <td>0</td>\n",
       "    </tr>\n",
       "  </tbody>\n",
       "</table>\n",
       "</div>"
      ],
      "text/plain": [
       "       est_diameter_min  est_diameter_max  relative_velocity  miss_distance  \\\n",
       "34801          0.069913          0.156329       68591.570858   1.186216e+07   \n",
       "40405          0.036691          0.082043       64069.623017   4.467340e+07   \n",
       "51575          0.477040          1.066694       74822.876347   1.321325e+07   \n",
       "84469          0.031373          0.070152       11016.075416   2.326070e+07   \n",
       "41382          0.160160          0.358129       19482.422892   5.235652e+07   \n",
       "\n",
       "       absolute_magnitude  hazardous  label  \n",
       "34801               22.90      False      0  \n",
       "40405               24.30      False      0  \n",
       "51575               18.73       True      1  \n",
       "84469               24.64      False      0  \n",
       "41382               21.10      False      0  "
      ]
     },
     "execution_count": 31,
     "metadata": {},
     "output_type": "execute_result"
    }
   ],
   "source": [
    "balanced_df = balanced_df.sample(frac=1, random_state=42)\n",
    "balanced_df.head()"
   ]
  },
  {
   "cell_type": "code",
   "execution_count": 32,
   "metadata": {
    "colab": {
     "base_uri": "https://localhost:8080/"
    },
    "id": "5aeAPuqgisZH",
    "outputId": "a3177391-b717-476a-baff-b5c333c103dc"
   },
   "outputs": [
    {
     "data": {
      "text/plain": [
       "(163992, 7)"
      ]
     },
     "execution_count": 32,
     "metadata": {},
     "output_type": "execute_result"
    }
   ],
   "source": [
    "balanced_df.shape"
   ]
  },
  {
   "cell_type": "markdown",
   "metadata": {
    "id": "PJTukjH9jjtK"
   },
   "source": [
    "After these steps, `balanced_df` contains a balanced dataset with an equal number of samples for each class. This balanced dataset can be used for training machine learning models, such as your DNN, to mitigate the issues caused by class imbalance and potentially improve the model's performance on the minority class."
   ]
  },
  {
   "cell_type": "markdown",
   "metadata": {
    "id": "8653f91e"
   },
   "source": [
    "### 2.6. Determination of dependent and independent variables\n",
    "\n",
    "<p>To build model and make prediction, we need to seperate our data as dependent and independent variables."
   ]
  },
  {
   "cell_type": "code",
   "execution_count": 33,
   "metadata": {
    "id": "9e25d50a"
   },
   "outputs": [],
   "source": [
    "X = balanced_df.drop([\"label\", \"hazardous\"], axis = 1)\n",
    "y = balanced_df[\"label\"]"
   ]
  },
  {
   "cell_type": "markdown",
   "metadata": {
    "id": "b3664892"
   },
   "source": [
    "<b>Independent variables</b>"
   ]
  },
  {
   "cell_type": "code",
   "execution_count": 34,
   "metadata": {
    "colab": {
     "base_uri": "https://localhost:8080/",
     "height": 424
    },
    "id": "f5dce450",
    "outputId": "df2556a1-3571-49d5-ebf6-51ad8134bef3"
   },
   "outputs": [
    {
     "data": {
      "text/html": [
       "<div>\n",
       "<style scoped>\n",
       "    .dataframe tbody tr th:only-of-type {\n",
       "        vertical-align: middle;\n",
       "    }\n",
       "\n",
       "    .dataframe tbody tr th {\n",
       "        vertical-align: top;\n",
       "    }\n",
       "\n",
       "    .dataframe thead th {\n",
       "        text-align: right;\n",
       "    }\n",
       "</style>\n",
       "<table border=\"1\" class=\"dataframe\">\n",
       "  <thead>\n",
       "    <tr style=\"text-align: right;\">\n",
       "      <th></th>\n",
       "      <th>est_diameter_min</th>\n",
       "      <th>est_diameter_max</th>\n",
       "      <th>relative_velocity</th>\n",
       "      <th>miss_distance</th>\n",
       "      <th>absolute_magnitude</th>\n",
       "    </tr>\n",
       "  </thead>\n",
       "  <tbody>\n",
       "    <tr>\n",
       "      <th>34801</th>\n",
       "      <td>0.069913</td>\n",
       "      <td>0.156329</td>\n",
       "      <td>68591.570858</td>\n",
       "      <td>1.186216e+07</td>\n",
       "      <td>22.90</td>\n",
       "    </tr>\n",
       "    <tr>\n",
       "      <th>40405</th>\n",
       "      <td>0.036691</td>\n",
       "      <td>0.082043</td>\n",
       "      <td>64069.623017</td>\n",
       "      <td>4.467340e+07</td>\n",
       "      <td>24.30</td>\n",
       "    </tr>\n",
       "    <tr>\n",
       "      <th>51575</th>\n",
       "      <td>0.477040</td>\n",
       "      <td>1.066694</td>\n",
       "      <td>74822.876347</td>\n",
       "      <td>1.321325e+07</td>\n",
       "      <td>18.73</td>\n",
       "    </tr>\n",
       "    <tr>\n",
       "      <th>84469</th>\n",
       "      <td>0.031373</td>\n",
       "      <td>0.070152</td>\n",
       "      <td>11016.075416</td>\n",
       "      <td>2.326070e+07</td>\n",
       "      <td>24.64</td>\n",
       "    </tr>\n",
       "    <tr>\n",
       "      <th>41382</th>\n",
       "      <td>0.160160</td>\n",
       "      <td>0.358129</td>\n",
       "      <td>19482.422892</td>\n",
       "      <td>5.235652e+07</td>\n",
       "      <td>21.10</td>\n",
       "    </tr>\n",
       "    <tr>\n",
       "      <th>...</th>\n",
       "      <td>...</td>\n",
       "      <td>...</td>\n",
       "      <td>...</td>\n",
       "      <td>...</td>\n",
       "      <td>...</td>\n",
       "    </tr>\n",
       "    <tr>\n",
       "      <th>28097</th>\n",
       "      <td>0.121494</td>\n",
       "      <td>0.271669</td>\n",
       "      <td>61228.035266</td>\n",
       "      <td>7.419592e+07</td>\n",
       "      <td>21.70</td>\n",
       "    </tr>\n",
       "    <tr>\n",
       "      <th>6338</th>\n",
       "      <td>0.201630</td>\n",
       "      <td>0.450858</td>\n",
       "      <td>53077.570866</td>\n",
       "      <td>4.351202e+07</td>\n",
       "      <td>20.60</td>\n",
       "    </tr>\n",
       "    <tr>\n",
       "      <th>65169</th>\n",
       "      <td>0.121494</td>\n",
       "      <td>0.271669</td>\n",
       "      <td>32903.560475</td>\n",
       "      <td>2.869810e+07</td>\n",
       "      <td>21.70</td>\n",
       "    </tr>\n",
       "    <tr>\n",
       "      <th>6656</th>\n",
       "      <td>0.133216</td>\n",
       "      <td>0.297879</td>\n",
       "      <td>30220.078200</td>\n",
       "      <td>5.609021e+07</td>\n",
       "      <td>21.50</td>\n",
       "    </tr>\n",
       "    <tr>\n",
       "      <th>19552</th>\n",
       "      <td>0.183889</td>\n",
       "      <td>0.411188</td>\n",
       "      <td>23063.648860</td>\n",
       "      <td>3.046189e+07</td>\n",
       "      <td>20.80</td>\n",
       "    </tr>\n",
       "  </tbody>\n",
       "</table>\n",
       "<p>163992 rows × 5 columns</p>\n",
       "</div>"
      ],
      "text/plain": [
       "       est_diameter_min  est_diameter_max  relative_velocity  miss_distance  \\\n",
       "34801          0.069913          0.156329       68591.570858   1.186216e+07   \n",
       "40405          0.036691          0.082043       64069.623017   4.467340e+07   \n",
       "51575          0.477040          1.066694       74822.876347   1.321325e+07   \n",
       "84469          0.031373          0.070152       11016.075416   2.326070e+07   \n",
       "41382          0.160160          0.358129       19482.422892   5.235652e+07   \n",
       "...                 ...               ...                ...            ...   \n",
       "28097          0.121494          0.271669       61228.035266   7.419592e+07   \n",
       "6338           0.201630          0.450858       53077.570866   4.351202e+07   \n",
       "65169          0.121494          0.271669       32903.560475   2.869810e+07   \n",
       "6656           0.133216          0.297879       30220.078200   5.609021e+07   \n",
       "19552          0.183889          0.411188       23063.648860   3.046189e+07   \n",
       "\n",
       "       absolute_magnitude  \n",
       "34801               22.90  \n",
       "40405               24.30  \n",
       "51575               18.73  \n",
       "84469               24.64  \n",
       "41382               21.10  \n",
       "...                   ...  \n",
       "28097               21.70  \n",
       "6338                20.60  \n",
       "65169               21.70  \n",
       "6656                21.50  \n",
       "19552               20.80  \n",
       "\n",
       "[163992 rows x 5 columns]"
      ]
     },
     "execution_count": 34,
     "metadata": {},
     "output_type": "execute_result"
    }
   ],
   "source": [
    "X"
   ]
  },
  {
   "cell_type": "markdown",
   "metadata": {
    "id": "c62367d0"
   },
   "source": [
    "<b>Dependent variables</b>"
   ]
  },
  {
   "cell_type": "code",
   "execution_count": 35,
   "metadata": {
    "colab": {
     "base_uri": "https://localhost:8080/"
    },
    "id": "445149c6",
    "outputId": "4200a212-a9d9-47c7-8a82-edfd1f5e918c"
   },
   "outputs": [
    {
     "data": {
      "text/plain": [
       "34801    0\n",
       "40405    0\n",
       "51575    1\n",
       "84469    0\n",
       "41382    0\n",
       "        ..\n",
       "28097    1\n",
       "6338     1\n",
       "65169    1\n",
       "6656     1\n",
       "19552    1\n",
       "Name: label, Length: 163992, dtype: int64"
      ]
     },
     "execution_count": 35,
     "metadata": {},
     "output_type": "execute_result"
    }
   ],
   "source": [
    "y"
   ]
  },
  {
   "cell_type": "markdown",
   "metadata": {
    "id": "4bf094de"
   },
   "source": [
    "### 2.7. Splitting test and train\n",
    "\n",
    "<p>The train-test split is a technique for evaluating the performance of a machine learning algorithm. Seperated %66.6 for train and %33.3 for test set.</p>"
   ]
  },
  {
   "cell_type": "code",
   "execution_count": 36,
   "metadata": {
    "id": "875b7dda"
   },
   "outputs": [],
   "source": [
    "from sklearn.model_selection import train_test_split\n",
    "\n",
    "x_train, x_temp, y_train, y_temp = train_test_split(X, y, test_size=0.33, random_state=0)\n",
    "x_test, x_val, y_test, y_val = train_test_split(x_temp, y_temp, test_size=0.175, random_state=0)"
   ]
  },
  {
   "cell_type": "code",
   "execution_count": 37,
   "metadata": {
    "colab": {
     "base_uri": "https://localhost:8080/"
    },
    "id": "f83dbf9e",
    "outputId": "fda411d3-c8a8-4883-992f-7944042fea0c"
   },
   "outputs": [
    {
     "name": "stdout",
     "output_type": "stream",
     "text": [
      "(109874, 5) (109874,)\n"
     ]
    }
   ],
   "source": [
    "print(x_train.shape, y_train.shape)"
   ]
  },
  {
   "cell_type": "code",
   "execution_count": 38,
   "metadata": {
    "colab": {
     "base_uri": "https://localhost:8080/"
    },
    "id": "zEWmb9Nqn73n",
    "outputId": "84ba72ff-737d-401a-9bec-05a7b53d41cc"
   },
   "outputs": [
    {
     "name": "stdout",
     "output_type": "stream",
     "text": [
      "(9471, 5) (9471,)\n"
     ]
    }
   ],
   "source": [
    "print(x_val.shape, y_val.shape)"
   ]
  },
  {
   "cell_type": "code",
   "execution_count": 39,
   "metadata": {
    "colab": {
     "base_uri": "https://localhost:8080/"
    },
    "id": "6e3a3b0c",
    "outputId": "467f684a-18ce-4a75-c439-dd7517eb6ea2"
   },
   "outputs": [
    {
     "name": "stdout",
     "output_type": "stream",
     "text": [
      "(44647, 5) (44647,)\n"
     ]
    }
   ],
   "source": [
    "print(x_test.shape, y_test.shape)"
   ]
  },
  {
   "cell_type": "markdown",
   "metadata": {
    "id": "a8c6ae91"
   },
   "source": [
    "### 2.8. Scaling datas\n",
    "\n",
    "<p>This means that you're transforming your data so that it fits within a specific scale like 0-1.</p>"
   ]
  },
  {
   "cell_type": "code",
   "execution_count": 40,
   "metadata": {
    "id": "eM6J0gsikUT5"
   },
   "outputs": [],
   "source": [
    "from sklearn.preprocessing import StandardScaler"
   ]
  },
  {
   "cell_type": "code",
   "execution_count": 41,
   "metadata": {
    "id": "8cc5db2a"
   },
   "outputs": [],
   "source": [
    "sc = StandardScaler()\n",
    "\n",
    "X_train = sc.fit_transform(x_train)\n",
    "X_test = sc.transform(x_test)\n",
    "X_val = sc.transform(x_val)"
   ]
  },
  {
   "cell_type": "markdown",
   "metadata": {
    "id": "84eeba0d"
   },
   "source": [
    "<a id=\"ann\"></a>\n",
    "\n",
    "<h2 align=center><b>Building Artificial Neural Network Model for Classification</b></h2>\n",
    "\n",
    "<p>Artificial neural networks, usually simply called neural networks or, more simply yet, neural nets, are computing systems. Artificial Neural Networks (ANNs) are computational models inspired by the structure and function of the human brain. They are a subset of machine learning and deep learning techniques. For more, please check <a href=\"https://en.wikipedia.org/wiki/Artificial_neural_network\">Wikipedia</a>.</p>"
   ]
  },
  {
   "cell_type": "markdown",
   "metadata": {
    "id": "756b19f1"
   },
   "source": [
    "We can directly import our model with keras function <code>load_model</code>."
   ]
  },
  {
   "cell_type": "markdown",
   "metadata": {
    "id": "h9NKlHnN3lRS"
   },
   "source": [
    "### 3.1 Loading created model"
   ]
  },
  {
   "cell_type": "code",
   "execution_count": 42,
   "metadata": {
    "id": "rUy-sBLi3qnw"
   },
   "outputs": [],
   "source": [
    "# from keras.models import load_model\n",
    "# model = load_model('model.h5')"
   ]
  },
  {
   "cell_type": "markdown",
   "metadata": {
    "id": "RN7r6yHq31_n"
   },
   "source": [
    "### 3.2 Checking the architecture of the model"
   ]
  },
  {
   "cell_type": "code",
   "execution_count": 43,
   "metadata": {
    "id": "2SlJRRgZ36gZ"
   },
   "outputs": [],
   "source": [
    "# model.summary()"
   ]
  },
  {
   "cell_type": "markdown",
   "metadata": {
    "id": "cd422285"
   },
   "source": [
    "### 3.3. Define neural network parameters\n",
    "\n",
    "<p>We have 5 dependent variables and we want 12 epochs in our model.</p>"
   ]
  },
  {
   "cell_type": "code",
   "execution_count": 44,
   "metadata": {
    "id": "10376394"
   },
   "outputs": [],
   "source": [
    "INPUT = X.shape[1]\n",
    "epoch = 16 # @param {type:\"integer\"}\n",
    "batch_size = 32 # @param {type:\"integer\"}"
   ]
  },
  {
   "cell_type": "markdown",
   "metadata": {
    "id": "a98122a0"
   },
   "source": [
    "### 3.4. Building Deep Neural Network (DNN)."
   ]
  },
  {
   "cell_type": "markdown",
   "metadata": {
    "id": "Gd4opgVjlz10"
   },
   "source": [
    "- **ANN (Artificial Neural Network)**: This is a broad term referring to any neural network model, including shallow networks (those with a single hidden layer) and deep networks (those with multiple hidden layers).\n",
    "\n",
    "- **DNN (Deep Neural Network)**: This is a specific type of ANN characterized by having multiple hidden layers, making it deep. The model I provided in the code is an example of a DNN because it has multiple hidden layers (more than one hidden layer)."
   ]
  },
  {
   "cell_type": "code",
   "execution_count": 54,
   "metadata": {
    "id": "e219c889"
   },
   "outputs": [
    {
     "ename": "ModuleNotFoundError",
     "evalue": "No module named 'keras'",
     "output_type": "error",
     "traceback": [
      "\u001b[1;31m---------------------------------------------------------------------------\u001b[0m",
      "\u001b[1;31mModuleNotFoundError\u001b[0m                       Traceback (most recent call last)",
      "\u001b[1;32m<ipython-input-54-e5647f980249>\u001b[0m in \u001b[0;36m<module>\u001b[1;34m\u001b[0m\n\u001b[1;32m----> 1\u001b[1;33m \u001b[1;32mimport\u001b[0m \u001b[0mkeras\u001b[0m\u001b[1;33m\u001b[0m\u001b[1;33m\u001b[0m\u001b[0m\n\u001b[0m\u001b[0;32m      2\u001b[0m \u001b[0mmodel\u001b[0m \u001b[1;33m=\u001b[0m \u001b[0mkeras\u001b[0m\u001b[1;33m.\u001b[0m\u001b[0mSequential\u001b[0m\u001b[1;33m(\u001b[0m\u001b[1;33m)\u001b[0m\u001b[1;33m\u001b[0m\u001b[1;33m\u001b[0m\u001b[0m\n\u001b[0;32m      3\u001b[0m \u001b[1;33m\u001b[0m\u001b[0m\n\u001b[0;32m      4\u001b[0m \u001b[0mmodel\u001b[0m\u001b[1;33m.\u001b[0m\u001b[0madd\u001b[0m\u001b[1;33m(\u001b[0m\u001b[0mDense\u001b[0m\u001b[1;33m(\u001b[0m\u001b[1;36m64\u001b[0m\u001b[1;33m,\u001b[0m \u001b[0mactivation\u001b[0m\u001b[1;33m=\u001b[0m\u001b[1;34m\"relu\"\u001b[0m\u001b[1;33m,\u001b[0m \u001b[0minput_dim\u001b[0m\u001b[1;33m=\u001b[0m\u001b[0mINPUT\u001b[0m\u001b[1;33m)\u001b[0m\u001b[1;33m)\u001b[0m\u001b[1;33m\u001b[0m\u001b[1;33m\u001b[0m\u001b[0m\n\u001b[0;32m      5\u001b[0m \u001b[1;33m\u001b[0m\u001b[0m\n",
      "\u001b[1;31mModuleNotFoundError\u001b[0m: No module named 'keras'"
     ]
    }
   ],
   "source": [
    "import keras\n",
    "model = keras.Sequential()\n",
    "\n",
    "model.add(Dense(64, activation=\"relu\", input_dim=INPUT))\n",
    "\n",
    "model.add(Dense(32, activation=\"relu\"))\n",
    "model.add(Dropout(0.2))\n",
    "model.add(Dense(16, activation=\"relu\"))\n",
    "\n",
    "model.add(Dense(1, activation=\"sigmoid\"))"
   ]
  },
  {
   "cell_type": "code",
   "execution_count": 43,
   "metadata": {
    "id": "jrwu6b9Ql8dL"
   },
   "outputs": [],
   "source": [
    "model.compile(optimizer=\"adam\", loss=\"binary_crossentropy\", metrics=[\"accuracy\"])"
   ]
  },
  {
   "cell_type": "code",
   "execution_count": 44,
   "metadata": {
    "colab": {
     "base_uri": "https://localhost:8080/"
    },
    "id": "S5pZVa-JqZE-",
    "outputId": "7efcbc40-c7be-47b7-e5dc-d249e332721b"
   },
   "outputs": [
    {
     "name": "stdout",
     "output_type": "stream",
     "text": [
      "Model: \"sequential\"\n",
      "_________________________________________________________________\n",
      " Layer (type)                Output Shape              Param #   \n",
      "=================================================================\n",
      " dense (Dense)               (None, 64)                384       \n",
      "                                                                 \n",
      " dense_1 (Dense)             (None, 32)                2080      \n",
      "                                                                 \n",
      " dropout (Dropout)           (None, 32)                0         \n",
      "                                                                 \n",
      " dense_2 (Dense)             (None, 16)                528       \n",
      "                                                                 \n",
      " dense_3 (Dense)             (None, 1)                 17        \n",
      "                                                                 \n",
      "=================================================================\n",
      "Total params: 3009 (11.75 KB)\n",
      "Trainable params: 3009 (11.75 KB)\n",
      "Non-trainable params: 0 (0.00 Byte)\n",
      "_________________________________________________________________\n"
     ]
    }
   ],
   "source": [
    "model.summary()"
   ]
  },
  {
   "cell_type": "markdown",
   "metadata": {
    "id": "565fa21c"
   },
   "source": [
    "### 3.5. Training\n",
    "\n",
    "<p>Let's fit and train our model.</p>"
   ]
  },
  {
   "cell_type": "code",
   "execution_count": 45,
   "metadata": {
    "colab": {
     "base_uri": "https://localhost:8080/"
    },
    "id": "a0f55155",
    "outputId": "f9007226-0d60-48ee-fb25-226dd5ace115"
   },
   "outputs": [
    {
     "name": "stdout",
     "output_type": "stream",
     "text": [
      "Epoch 1/16\n",
      "3434/3434 [==============================] - 20s 5ms/step - loss: 0.3163 - accuracy: 0.8686 - val_loss: 0.3004 - val_accuracy: 0.8749\n",
      "Epoch 2/16\n",
      "3434/3434 [==============================] - 12s 3ms/step - loss: 0.3026 - accuracy: 0.8746 - val_loss: 0.3015 - val_accuracy: 0.8728\n",
      "Epoch 3/16\n",
      "3434/3434 [==============================] - 7s 2ms/step - loss: 0.3015 - accuracy: 0.8750 - val_loss: 0.3005 - val_accuracy: 0.8750\n",
      "Epoch 4/16\n",
      "3434/3434 [==============================] - 8s 2ms/step - loss: 0.3002 - accuracy: 0.8755 - val_loss: 0.2986 - val_accuracy: 0.8769\n",
      "Epoch 5/16\n",
      "3434/3434 [==============================] - 8s 2ms/step - loss: 0.3000 - accuracy: 0.8751 - val_loss: 0.2992 - val_accuracy: 0.8760\n",
      "Epoch 6/16\n",
      "3434/3434 [==============================] - 7s 2ms/step - loss: 0.2993 - accuracy: 0.8758 - val_loss: 0.3007 - val_accuracy: 0.8769\n",
      "Epoch 7/16\n",
      "3434/3434 [==============================] - 8s 2ms/step - loss: 0.2992 - accuracy: 0.8756 - val_loss: 0.2980 - val_accuracy: 0.8774\n",
      "Epoch 8/16\n",
      "3434/3434 [==============================] - 7s 2ms/step - loss: 0.2992 - accuracy: 0.8754 - val_loss: 0.2983 - val_accuracy: 0.8761\n",
      "Epoch 9/16\n",
      "3434/3434 [==============================] - 14s 4ms/step - loss: 0.2986 - accuracy: 0.8761 - val_loss: 0.2980 - val_accuracy: 0.8761\n",
      "Epoch 10/16\n",
      "3434/3434 [==============================] - 11s 3ms/step - loss: 0.2984 - accuracy: 0.8763 - val_loss: 0.2983 - val_accuracy: 0.8774\n",
      "Epoch 11/16\n",
      "3434/3434 [==============================] - 8s 2ms/step - loss: 0.2982 - accuracy: 0.8761 - val_loss: 0.2983 - val_accuracy: 0.8770\n",
      "Epoch 12/16\n",
      "3434/3434 [==============================] - 11s 3ms/step - loss: 0.2980 - accuracy: 0.8766 - val_loss: 0.2969 - val_accuracy: 0.8770\n",
      "Epoch 13/16\n",
      "3434/3434 [==============================] - 12s 3ms/step - loss: 0.2976 - accuracy: 0.8766 - val_loss: 0.2975 - val_accuracy: 0.8777\n",
      "Epoch 14/16\n",
      "3434/3434 [==============================] - 11s 3ms/step - loss: 0.2975 - accuracy: 0.8768 - val_loss: 0.2985 - val_accuracy: 0.8767\n",
      "Epoch 15/16\n",
      "3434/3434 [==============================] - 9s 3ms/step - loss: 0.2980 - accuracy: 0.8763 - val_loss: 0.2984 - val_accuracy: 0.8757\n",
      "Epoch 16/16\n",
      "3434/3434 [==============================] - 8s 2ms/step - loss: 0.2972 - accuracy: 0.8769 - val_loss: 0.2969 - val_accuracy: 0.8778\n",
      "\n",
      "Training model for NASA - Nearest Earth Objects data set took 205.0168719291687 seconds.\n"
     ]
    }
   ],
   "source": [
    "start = time.time()\n",
    "\n",
    "model_history = model.fit(X_train, y_train, epochs=epoch, batch_size=batch_size, validation_data=(X_val, y_val))\n",
    "\n",
    "end = time.time()\n",
    "cal_time = end - start\n",
    "print(\"\\nTraining model for NASA - Nearest Earth Objects data set took {} seconds.\".format(cal_time))"
   ]
  },
  {
   "cell_type": "markdown",
   "metadata": {
    "id": "a213e697"
   },
   "source": [
    "### 3.6. Show summary and save model\n",
    "\n",
    "<p>Let's save our model for further predictions and see summary of our model.</p>"
   ]
  },
  {
   "cell_type": "code",
   "execution_count": 46,
   "metadata": {
    "cellView": "form",
    "colab": {
     "base_uri": "https://localhost:8080/"
    },
    "id": "3696a26b",
    "outputId": "ecccf043-164e-417f-8cc2-50583147a8af"
   },
   "outputs": [
    {
     "name": "stdout",
     "output_type": "stream",
     "text": [
      "Model saved as 'model_dnn.h5'.\n"
     ]
    }
   ],
   "source": [
    "model.save('model_dnn.h5') # @markdown Run for saving weights.\n",
    "print(\"Model saved as 'model_dnn.h5'.\")"
   ]
  },
  {
   "cell_type": "markdown",
   "metadata": {
    "id": "af89a2f5"
   },
   "source": [
    "### 3.7. Plot loss and accuracy"
   ]
  },
  {
   "cell_type": "code",
   "execution_count": 47,
   "metadata": {
    "colab": {
     "base_uri": "https://localhost:8080/"
    },
    "id": "5P64k0gsqd6W",
    "outputId": "35aef474-e043-4991-d49e-9e8b93906ea6"
   },
   "outputs": [
    {
     "name": "stdout",
     "output_type": "stream",
     "text": [
      "dict_keys(['loss', 'accuracy', 'val_loss', 'val_accuracy'])\n"
     ]
    }
   ],
   "source": [
    "print(model_history.history.keys())"
   ]
  },
  {
   "cell_type": "code",
   "execution_count": 48,
   "metadata": {
    "id": "Kf942svwqSUk"
   },
   "outputs": [],
   "source": [
    "def plot_accuracy_loss(training_results):\n",
    "  plt.figure(figsize = (15, 6))\n",
    "  plt.subplot(2, 1, 1)\n",
    "  plt.plot(training_results.history['loss'], 'r')\n",
    "  plt.ylabel('Loss')\n",
    "  plt.title('Training loss iterations')\n",
    "  plt.subplot(2, 1, 2)\n",
    "  plt.plot(training_results.history['accuracy'])\n",
    "  plt.ylabel('Accuracy')\n",
    "  plt.xlabel('Epochs')\n",
    "  plt.show()"
   ]
  },
  {
   "cell_type": "code",
   "execution_count": 49,
   "metadata": {
    "colab": {
     "base_uri": "https://localhost:8080/",
     "height": 452
    },
    "id": "cf92b5a7",
    "outputId": "c0039f30-d473-4f42-a7b3-15b39339a330"
   },
   "outputs": [
    {
     "data": {
      "image/png": "[encoded data removed]",
      "text/plain": [
       "<Figure size 1500x600 with 2 Axes>"
      ]
     },
     "metadata": {},
     "output_type": "display_data"
    }
   ],
   "source": [
    "plot_accuracy_loss(model_history)"
   ]
  },
  {
   "cell_type": "markdown",
   "metadata": {
    "id": "61300c87"
   },
   "source": [
    "### 3.8. System success"
   ]
  },
  {
   "cell_type": "markdown",
   "metadata": {
    "id": "mS00qpAbtZub"
   },
   "source": [
    "A confusion matrix is a table used in machine learning and classification tasks to evaluate the performance of a predictive model. It provides a detailed breakdown of the model's predictions compared to the actual outcomes, allowing you to assess the model's accuracy, precision, recall, and other important metrics. A confusion matrix is especially useful in binary classification problems (where there are only two classes), but it can also be extended to multi-class problems."
   ]
  },
  {
   "cell_type": "code",
   "execution_count": 50,
   "metadata": {
    "colab": {
     "base_uri": "https://localhost:8080/"
    },
    "id": "6374bdcb",
    "outputId": "d6369867-f029-4ed1-e1d2-fd09330f7afd"
   },
   "outputs": [
    {
     "name": "stdout",
     "output_type": "stream",
     "text": [
      "1396/1396 [==============================] - 4s 3ms/step\n",
      "\n",
      "Confusion Matrix:\n",
      " [[17216  5117]\n",
      " [  277 22037]]\n",
      "\n",
      "Accuracy score: 0.8791856115752458\n"
     ]
    }
   ],
   "source": [
    "y_pred = model.predict(X_test)\n",
    "y_pred = (y_pred > 0.5)\n",
    "\n",
    "from sklearn.metrics import confusion_matrix\n",
    "cm = confusion_matrix(y_test, y_pred)  #  Comparing results\n",
    "print(\"\\nConfusion Matrix:\\n\", cm)\n",
    "\n",
    "from sklearn.metrics import accuracy_score\n",
    "print(f\"\\nAccuracy score: {accuracy_score(y_test, y_pred)}\")"
   ]
  },
  {
   "cell_type": "markdown",
   "metadata": {
    "id": "0r3_8grCuvxb"
   },
   "source": [
    "**Precision**: The ratio of true positives to the total number of positive predictions TP / (TP + FP). It measures how many of the predicted positive cases were actually positive.\n",
    "    \n",
    "**Recall (Sensitivity or True Positive Rate)**: The ratio of true positives to the total number of actual positive cases TP / (TP + FN). It measures the model's ability to correctly identify all positive cases.\n",
    "    \n",
    "**Specificity (True Negative Rate)**: The ratio of true negatives to the total number of actual negative cases TN / (TN + FP). It measures the model's ability to correctly identify all negative cases.\n",
    "    \n",
    "**F1-Score**: The harmonic mean of precision and recall, which balances the trade-off between precision and recall."
   ]
  },
  {
   "cell_type": "code",
   "execution_count": 52,
   "metadata": {
    "id": "GOSOowWfue96"
   },
   "outputs": [],
   "source": [
    "true_positive = cm[1, 1]\n",
    "false_positive = cm[0, 1]\n",
    "true_negative = cm[0, 0]\n",
    "false_negative = cm[1, 0]\n",
    "\n",
    "precision = true_positive / (true_positive + false_positive)\n",
    "recall = true_positive / (true_positive + false_negative)\n",
    "specificity = true_negative / (true_negative + false_positive)\n",
    "f1 = 2 * (precision * recall) / (precision + recall)"
   ]
  },
  {
   "cell_type": "code",
   "execution_count": 55,
   "metadata": {
    "colab": {
     "base_uri": "https://localhost:8080/"
    },
    "id": "74w3XrZeugPa",
    "outputId": "164fc9c8-bc30-4f42-8861-cfa9fffd1969"
   },
   "outputs": [
    {
     "name": "stdout",
     "output_type": "stream",
     "text": [
      "Precision: 0.8115563084628415\n",
      "Recall: 0.9875862687102268\n",
      "Specificity: 0.7708771772713026\n",
      "F1 Score: 0.8909598124039784\n"
     ]
    }
   ],
   "source": [
    "print(\"Precision:\", precision)\n",
    "print(\"Recall:\", recall)\n",
    "print(\"Specificity:\", specificity)\n",
    "print(\"F1 Score:\", f1)"
   ]
  },
  {
   "cell_type": "markdown",
   "metadata": {
    "id": "iEPp-alcxJqT"
   },
   "source": [
    "<a id=\"conclusion\"></a>\n",
    "\n",
    "<h2 align=center><b>Conclusion</b></h2>\n",
    "\n",
    "The binary classification model trained to predict whether Near-Earth Objects (NEOs) are hazardous or not has yielded promising results. The evaluation metrics reveal the following key insights:\n",
    "\n",
    "-   **Accuracy**: The model achieved an accuracy score of approximately 87.92%, indicating that it correctly classified a significant portion of NEOs.\n",
    "    \n",
    "-   **Precision**: With a precision score of approximately 81.16%, the model demonstrates its ability to identify hazardous NEOs with a relatively low rate of false positives. This is essential for ensuring that resources are appropriately allocated to address potential threats.\n",
    "    \n",
    "-   **Recall**: The recall score, measuring around 98.76%, signifies the model's effectiveness in capturing a vast majority of actual hazardous NEOs. It minimizes the risk of failing to detect dangerous objects.\n",
    "    \n",
    "-   **Specificity**: The specificity score of approximately 77.09% reflects the model's capability to correctly identify non-hazardous NEOs. This is crucial for preventing unnecessary alarm or resource allocation for harmless objects.\n",
    "    \n",
    "-   **F1 Score**: The F1 score, which combines precision and recall, stands at approximately 89.10%. This balanced metric highlights the model's ability to strike a compromise between minimizing false alarms and ensuring high detection rates.\n",
    "\n",
    "<br>\n",
    "\n",
    "In summary, the classification model, leveraging Artificial Neural Networks (ANNs), demonstrates a solid performance in identifying hazardous Near-Earth Objects. Its accuracy, precision, and recall indicate its potential utility in early detection and tracking efforts, contributing to the ongoing mission of safeguarding our planet from potential impacts."
   ]
  },
  {
   "cell_type": "code",
   "execution_count": 51,
   "metadata": {
    "colab": {
     "base_uri": "https://localhost:8080/"
    },
    "id": "sFiviqfJsDpd",
    "outputId": "59e978c5-af49-48ba-8f2d-453b1f974e92"
   },
   "outputs": [
    {
     "name": "stdout",
     "output_type": "stream",
     "text": [
      "Changes have been made to the project on 2023-09-18 09:51:57\n"
     ]
    }
   ],
   "source": [
    "from datetime import datetime\n",
    "print(f\"Changes have been made to the project on {datetime.now().strftime('%Y-%m-%d %H:%M:%S')}\")"
   ]
  }
 ],
 "metadata": {
  "colab": {
   "provenance": [],
   "toc_visible": true
  },
  "kernelspec": {
   "display_name": "Python 3",
   "language": "python",
   "name": "python3"
  },
  "language_info": {
   "codemirror_mode": {
    "name": "ipython",
    "version": 3
   },
   "file_extension": ".py",
   "mimetype": "text/x-python",
   "name": "python",
   "nbconvert_exporter": "python",
   "pygments_lexer": "ipython3",
   "version": "3.8.3"
  }
 },
 "nbformat": 4,
 "nbformat_minor": 5
}
